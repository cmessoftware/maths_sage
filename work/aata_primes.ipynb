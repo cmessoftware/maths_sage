{
 "cells": [
  {
   "cell_type": "markdown",
   "id": "5ab47308-643e-45fa-8736-59e05034d1db",
   "metadata": {},
   "source": [
    "## Comparación calculo de primos y sus funciones de aproximación más famosas"
   ]
  },
  {
   "cell_type": "code",
   "execution_count": 1,
   "id": "8e12ce51-288b-41b5-9f34-66e967ebfaa2",
   "metadata": {},
   "outputs": [
    {
     "ename": "RuntimeError",
     "evalue": "error in line(): option 'size' not valid",
     "output_type": "error",
     "traceback": [
      "\u001b[0;31m---------------------------------------------------------------------------\u001b[0m",
      "\u001b[0;31mRuntimeError\u001b[0m                              Traceback (most recent call last)",
      "Cell \u001b[0;32mIn[1], line 7\u001b[0m\n\u001b[1;32m      4\u001b[0m P \u001b[38;5;241m=\u001b[39m prime_range(n, n\u001b[38;5;241m+\u001b[39mm)\n\u001b[1;32m      6\u001b[0m \u001b[38;5;66;03m# --- (1) Curva \"primo vs índice\" ---\u001b[39;00m\n\u001b[0;32m----> 7\u001b[0m g1 \u001b[38;5;241m=\u001b[39m \u001b[43mlist_plot\u001b[49m\u001b[43m(\u001b[49m\u001b[43mP\u001b[49m\u001b[43m,\u001b[49m\u001b[43m \u001b[49m\u001b[43mplotjoined\u001b[49m\u001b[38;5;241;43m=\u001b[39;49m\u001b[38;5;28;43;01mTrue\u001b[39;49;00m\u001b[43m,\u001b[49m\u001b[43m \u001b[49m\u001b[43mmarker\u001b[49m\u001b[38;5;241;43m=\u001b[39;49m\u001b[38;5;124;43m'\u001b[39;49m\u001b[38;5;124;43m.\u001b[39;49m\u001b[38;5;124;43m'\u001b[39;49m\u001b[43m,\u001b[49m\u001b[43m \u001b[49m\u001b[43msize\u001b[49m\u001b[38;5;241;43m=\u001b[39;49m\u001b[43mInteger\u001b[49m\u001b[43m(\u001b[49m\u001b[38;5;241;43m12\u001b[39;49m\u001b[43m)\u001b[49m\u001b[43m,\u001b[49m\n\u001b[1;32m      8\u001b[0m \u001b[43m               \u001b[49m\u001b[43maxes_labels\u001b[49m\u001b[38;5;241;43m=\u001b[39;49m\u001b[43m[\u001b[49m\u001b[38;5;124;43m'\u001b[39;49m\u001b[38;5;124;43míndice\u001b[39;49m\u001b[38;5;124;43m'\u001b[39;49m\u001b[43m,\u001b[49m\u001b[43m \u001b[49m\u001b[38;5;124;43m'\u001b[39;49m\u001b[38;5;124;43mprimo\u001b[39;49m\u001b[38;5;124;43m'\u001b[39;49m\u001b[43m]\u001b[49m\u001b[43m,\u001b[49m\n\u001b[1;32m      9\u001b[0m \u001b[43m               \u001b[49m\u001b[43mtitle\u001b[49m\u001b[38;5;241;43m=\u001b[39;49m\u001b[38;5;124;43mf\u001b[39;49m\u001b[38;5;124;43m'\u001b[39;49m\u001b[38;5;124;43mPrimos entre \u001b[39;49m\u001b[38;5;132;43;01m{\u001b[39;49;00m\u001b[43mn\u001b[49m\u001b[38;5;132;43;01m}\u001b[39;49;00m\u001b[38;5;124;43m y \u001b[39;49m\u001b[38;5;132;43;01m{\u001b[39;49;00m\u001b[43mn\u001b[49m\u001b[38;5;241;43m+\u001b[39;49m\u001b[43mm\u001b[49m\u001b[38;5;132;43;01m}\u001b[39;49;00m\u001b[38;5;124;43m'\u001b[39;49m\u001b[43m)\u001b[49m\n\u001b[1;32m     11\u001b[0m \u001b[38;5;66;03m# --- (2) Primos sobre la recta real (x=p, y≈0) ---\u001b[39;00m\n\u001b[1;32m     12\u001b[0m \u001b[38;5;66;03m# Usamos pequeñas marcas verticales en y=0\u001b[39;00m\n\u001b[1;32m     13\u001b[0m marcas \u001b[38;5;241m=\u001b[39m \u001b[38;5;28msum\u001b[39m([line([(p, \u001b[38;5;241m-\u001b[39mRealNumber(\u001b[38;5;124m\"\u001b[39m\u001b[38;5;124m0.5\u001b[39m\u001b[38;5;124m\"\u001b[39m)), (p, RealNumber(\u001b[38;5;124m\"\u001b[39m\u001b[38;5;124m0.5\u001b[39m\u001b[38;5;124m\"\u001b[39m))], thickness\u001b[38;5;241m=\u001b[39mRealNumber(\u001b[38;5;124m\"\u001b[39m\u001b[38;5;124m1.2\u001b[39m\u001b[38;5;124m\"\u001b[39m)) \u001b[38;5;28;01mfor\u001b[39;00m p \u001b[38;5;129;01min\u001b[39;00m P], Graphics())\n",
      "File \u001b[0;32m~/sage/local/var/lib/sage/venv-python3.12.4/lib/python3.12/site-packages/sage/misc/decorators.py:497\u001b[0m, in \u001b[0;36moptions.__call__.<locals>.wrapper\u001b[0;34m(*args, **kwds)\u001b[0m\n\u001b[1;32m    495\u001b[0m     options[\u001b[38;5;124m'\u001b[39m\u001b[38;5;124m__original_opts\u001b[39m\u001b[38;5;124m'\u001b[39m] \u001b[38;5;241m=\u001b[39m kwds\n\u001b[1;32m    496\u001b[0m options\u001b[38;5;241m.\u001b[39mupdate(kwds)\n\u001b[0;32m--> 497\u001b[0m \u001b[38;5;28;01mreturn\u001b[39;00m \u001b[43mfunc\u001b[49m\u001b[43m(\u001b[49m\u001b[38;5;241;43m*\u001b[39;49m\u001b[43margs\u001b[49m\u001b[43m,\u001b[49m\u001b[43m \u001b[49m\u001b[38;5;241;43m*\u001b[39;49m\u001b[38;5;241;43m*\u001b[39;49m\u001b[43moptions\u001b[49m\u001b[43m)\u001b[49m\n",
      "File \u001b[0;32m~/sage/local/var/lib/sage/venv-python3.12.4/lib/python3.12/site-packages/sage/plot/plot.py:3145\u001b[0m, in \u001b[0;36mlist_plot\u001b[0;34m(data, plotjoined, **kwargs)\u001b[0m\n\u001b[1;32m   3143\u001b[0m \u001b[38;5;28;01mtry\u001b[39;00m:\n\u001b[1;32m   3144\u001b[0m     \u001b[38;5;28;01mif\u001b[39;00m plotjoined:\n\u001b[0;32m-> 3145\u001b[0m         \u001b[38;5;28;01mreturn\u001b[39;00m \u001b[43mline\u001b[49m\u001b[43m(\u001b[49m\u001b[43mdata\u001b[49m\u001b[43m,\u001b[49m\u001b[43m \u001b[49m\u001b[38;5;241;43m*\u001b[39;49m\u001b[38;5;241;43m*\u001b[39;49m\u001b[43mkwargs\u001b[49m\u001b[43m)\u001b[49m\n\u001b[1;32m   3146\u001b[0m     \u001b[38;5;28;01melse\u001b[39;00m:\n\u001b[1;32m   3147\u001b[0m         \u001b[38;5;28;01mreturn\u001b[39;00m point(data, \u001b[38;5;241m*\u001b[39m\u001b[38;5;241m*\u001b[39mkwargs)\n",
      "File \u001b[0;32m~/sage/local/var/lib/sage/venv-python3.12.4/lib/python3.12/site-packages/sage/plot/line.py:311\u001b[0m, in \u001b[0;36mline\u001b[0;34m(points, **kwds)\u001b[0m\n\u001b[1;32m    278\u001b[0m \u001b[38;5;250m\u001b[39m\u001b[38;5;124;03m\"\"\"\u001b[39;00m\n\u001b[1;32m    279\u001b[0m \u001b[38;5;124;03mReturns either a 2-dimensional or 3-dimensional line depending\u001b[39;00m\n\u001b[1;32m    280\u001b[0m \u001b[38;5;124;03mon value of points.\u001b[39;00m\n\u001b[0;32m   (...)\u001b[0m\n\u001b[1;32m    308\u001b[0m \u001b[38;5;124;03m    sphinx_plot(E)\u001b[39;00m\n\u001b[1;32m    309\u001b[0m \u001b[38;5;124;03m\"\"\"\u001b[39;00m\n\u001b[1;32m    310\u001b[0m \u001b[38;5;28;01mtry\u001b[39;00m:\n\u001b[0;32m--> 311\u001b[0m     \u001b[38;5;28;01mreturn\u001b[39;00m \u001b[43mline2d\u001b[49m\u001b[43m(\u001b[49m\u001b[43mpoints\u001b[49m\u001b[43m,\u001b[49m\u001b[43m \u001b[49m\u001b[38;5;241;43m*\u001b[39;49m\u001b[38;5;241;43m*\u001b[39;49m\u001b[43mkwds\u001b[49m\u001b[43m)\u001b[49m\n\u001b[1;32m    312\u001b[0m \u001b[38;5;28;01mexcept\u001b[39;00m \u001b[38;5;167;01mValueError\u001b[39;00m:\n\u001b[1;32m    313\u001b[0m     \u001b[38;5;28;01mfrom\u001b[39;00m \u001b[38;5;21;01msage\u001b[39;00m\u001b[38;5;21;01m.\u001b[39;00m\u001b[38;5;21;01mplot\u001b[39;00m\u001b[38;5;21;01m.\u001b[39;00m\u001b[38;5;21;01mplot3d\u001b[39;00m\u001b[38;5;21;01m.\u001b[39;00m\u001b[38;5;21;01mshapes2\u001b[39;00m \u001b[38;5;28;01mimport\u001b[39;00m line3d\n",
      "File \u001b[0;32m~/sage/local/var/lib/sage/venv-python3.12.4/lib/python3.12/site-packages/sage/misc/decorators.py:658\u001b[0m, in \u001b[0;36mrename_keyword.__call__.<locals>.wrapper\u001b[0;34m(*args, **kwds)\u001b[0m\n\u001b[1;32m    656\u001b[0m         kwds[new_name] \u001b[38;5;241m=\u001b[39m kwds[old_name]\n\u001b[1;32m    657\u001b[0m         \u001b[38;5;28;01mdel\u001b[39;00m kwds[old_name]\n\u001b[0;32m--> 658\u001b[0m \u001b[38;5;28;01mreturn\u001b[39;00m \u001b[43mfunc\u001b[49m\u001b[43m(\u001b[49m\u001b[38;5;241;43m*\u001b[39;49m\u001b[43margs\u001b[49m\u001b[43m,\u001b[49m\u001b[43m \u001b[49m\u001b[38;5;241;43m*\u001b[39;49m\u001b[38;5;241;43m*\u001b[39;49m\u001b[43mkwds\u001b[49m\u001b[43m)\u001b[49m\n",
      "File \u001b[0;32m~/sage/local/var/lib/sage/venv-python3.12.4/lib/python3.12/site-packages/sage/misc/decorators.py:497\u001b[0m, in \u001b[0;36moptions.__call__.<locals>.wrapper\u001b[0;34m(*args, **kwds)\u001b[0m\n\u001b[1;32m    495\u001b[0m     options[\u001b[38;5;124m'\u001b[39m\u001b[38;5;124m__original_opts\u001b[39m\u001b[38;5;124m'\u001b[39m] \u001b[38;5;241m=\u001b[39m kwds\n\u001b[1;32m    496\u001b[0m options\u001b[38;5;241m.\u001b[39mupdate(kwds)\n\u001b[0;32m--> 497\u001b[0m \u001b[38;5;28;01mreturn\u001b[39;00m \u001b[43mfunc\u001b[49m\u001b[43m(\u001b[49m\u001b[38;5;241;43m*\u001b[39;49m\u001b[43margs\u001b[49m\u001b[43m,\u001b[49m\u001b[43m \u001b[49m\u001b[38;5;241;43m*\u001b[39;49m\u001b[38;5;241;43m*\u001b[39;49m\u001b[43moptions\u001b[49m\u001b[43m)\u001b[49m\n",
      "File \u001b[0;32m~/sage/local/var/lib/sage/venv-python3.12.4/lib/python3.12/site-packages/sage/plot/line.py:624\u001b[0m, in \u001b[0;36mline2d\u001b[0;34m(points, **options)\u001b[0m\n\u001b[1;32m    622\u001b[0m g \u001b[38;5;241m=\u001b[39m Graphics()\n\u001b[1;32m    623\u001b[0m g\u001b[38;5;241m.\u001b[39m_set_extra_kwds(Graphics\u001b[38;5;241m.\u001b[39m_extract_kwds_for_show(options))\n\u001b[0;32m--> 624\u001b[0m g\u001b[38;5;241m.\u001b[39madd_primitive(\u001b[43mLine\u001b[49m\u001b[43m(\u001b[49m\u001b[43mxdata\u001b[49m\u001b[43m,\u001b[49m\u001b[43m \u001b[49m\u001b[43mydata\u001b[49m\u001b[43m,\u001b[49m\u001b[43m \u001b[49m\u001b[43moptions\u001b[49m\u001b[43m)\u001b[49m)\n\u001b[1;32m    625\u001b[0m \u001b[38;5;28;01mif\u001b[39;00m options[\u001b[38;5;124m'\u001b[39m\u001b[38;5;124mlegend_label\u001b[39m\u001b[38;5;124m'\u001b[39m]:\n\u001b[1;32m    626\u001b[0m     g\u001b[38;5;241m.\u001b[39mlegend(\u001b[38;5;28;01mTrue\u001b[39;00m)\n",
      "File \u001b[0;32m~/sage/local/var/lib/sage/venv-python3.12.4/lib/python3.12/site-packages/sage/plot/line.py:49\u001b[0m, in \u001b[0;36mLine.__init__\u001b[0;34m(self, xdata, ydata, options)\u001b[0m\n\u001b[1;32m     47\u001b[0m \u001b[38;5;28;01mfor\u001b[39;00m opt \u001b[38;5;129;01min\u001b[39;00m options:\n\u001b[1;32m     48\u001b[0m     \u001b[38;5;28;01mif\u001b[39;00m opt \u001b[38;5;129;01mnot\u001b[39;00m \u001b[38;5;129;01min\u001b[39;00m valid_options:\n\u001b[0;32m---> 49\u001b[0m         \u001b[38;5;28;01mraise\u001b[39;00m \u001b[38;5;167;01mRuntimeError\u001b[39;00m(\u001b[38;5;124m\"\u001b[39m\u001b[38;5;124merror in line(): option \u001b[39m\u001b[38;5;124m'\u001b[39m\u001b[38;5;132;01m%s\u001b[39;00m\u001b[38;5;124m'\u001b[39m\u001b[38;5;124m not valid\u001b[39m\u001b[38;5;124m\"\u001b[39m \u001b[38;5;241m%\u001b[39m opt)\n\u001b[1;32m     50\u001b[0m \u001b[38;5;28mself\u001b[39m\u001b[38;5;241m.\u001b[39mxdata \u001b[38;5;241m=\u001b[39m xdata\n\u001b[1;32m     51\u001b[0m \u001b[38;5;28mself\u001b[39m\u001b[38;5;241m.\u001b[39mydata \u001b[38;5;241m=\u001b[39m ydata\n",
      "\u001b[0;31mRuntimeError\u001b[0m: error in line(): option 'size' not valid"
     ]
    }
   ],
   "source": [
    "# --- Parámetros ---\n",
    "n = 10000\n",
    "m = 1000  # ancho del intervalo [n, n+m]\n",
    "P = prime_range(n, n+m)\n",
    "\n",
    "# --- (1) Curva \"primo vs índice\" ---\n",
    "g1 = list_plot(P, plotjoined=True, marker='.', size=12,\n",
    "               axes_labels=['índice', 'primo'],\n",
    "               title=f'Primos entre {n} y {n+m}')\n",
    "\n",
    "# --- (2) Primos sobre la recta real (x=p, y≈0) ---\n",
    "# Usamos pequeñas marcas verticales en y=0\n",
    "marcas = sum([line([(p, -0.5), (p, 0.5)], thickness=1.2) for p in P], Graphics())\n",
    "eje = line([(n, 0), (n+m, 0)], color='gray', alpha=0.6)\n",
    "g2 = (marcas + eje)\n",
    "g2.axes_labels(['n', ''])\n",
    "g2.set_ylims(-1, 1)\n",
    "g2.set_title('Primos sobre la recta real')\n",
    "\n",
    "# --- (3) Gaps entre primos consecutivos ---\n",
    "gaps = [b - a for a, b in zip(P, P[1:])]\n",
    "g3 = list_plot(gaps, plotjoined=True, marker='o', size=12,\n",
    "               axes_labels=['índice', 'gap'],\n",
    "               title='Gaps entre primos consecutivos')\n",
    "\n",
    "# --- (4) Superposición π(x) vs x/log x y Li(x) ---\n",
    "# Construimos π(x) (función escalonada) evaluando en enteros\n",
    "xs = list(range(n, n+m+1))\n",
    "pi_vals = [prime_pi(x) for x in xs]\n",
    "\n",
    "# Estimaciones clásicas\n",
    "f_nlogn = [x/log(x) for x in xs]      # x / ln x\n",
    "from sage.functions.special import li  # integral logarítmica\n",
    "f_li    = [li(x) for x in xs]\n",
    "\n",
    "g4_pi     = line(list(zip(xs, pi_vals)), color='blue',  legend_label=r'$\\pi(x)$',      thickness=2)\n",
    "g4_nlogn  = line(list(zip(xs, f_nlogn)), color='red',   legend_label=r'$x/\\log x$',    linestyle='--')\n",
    "g4_li     = line(list(zip(xs, f_li)),    color='green', legend_label=r'$\\mathrm{Li}(x)$', linestyle='-.')\n",
    "\n",
    "g4 = g4_pi + g4_nlogn + g4_li\n",
    "g4.axes_labels(['x', 'conteo'])\n",
    "g4.set_title(f'Conteo de primos y aproximaciones en [{n}, {n+m}]')\n",
    "# Para ver mejor las diferencias, centramos el eje y alrededor de pi(n) .. pi(n+m)\n",
    "ymin = min(min(pi_vals), min(f_nlogn), min(f_li))\n",
    "ymax = max(max(pi_vals), max(f_nlogn), max(f_li))\n",
    "margen = 0.02*(ymax - ymin)\n",
    "g4.set_ylims(ymin - margen, ymax + margen)\n",
    "g4.set_legend_options(loc='upper left', framealpha=0.9)\n",
    "\n",
    "# --- Disposición 2x2 ---\n",
    "GA = graphics_array([[g1, g2],\n",
    "                     [g3, g4]])\n",
    "GA.show(figsize=10, dpi=120)\n"
   ]
  }
 ],
 "metadata": {
  "kernelspec": {
   "display_name": "SageMath 10.4",
   "language": "sage",
   "name": "sagemath"
  },
  "language_info": {
   "codemirror_mode": {
    "name": "ipython",
    "version": 3
   },
   "file_extension": ".py",
   "mimetype": "text/x-python",
   "name": "python",
   "nbconvert_exporter": "python",
   "pygments_lexer": "ipython3",
   "version": "3.12.4"
  }
 },
 "nbformat": 4,
 "nbformat_minor": 5
}
