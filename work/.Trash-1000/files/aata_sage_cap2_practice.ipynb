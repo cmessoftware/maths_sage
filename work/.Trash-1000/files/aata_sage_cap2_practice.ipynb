{
 "cells": [
  {
   "cell_type": "markdown",
   "id": "88570cce-14e5-4ee0-afa7-d4a6d5fa0f3c",
   "metadata": {},
   "source": [
    "## 2.7 Ejercicios en Sage ¶\n",
    "\n",
    "Estos ejercicios se tratan de investigar propiedades básicas de los enteros, algo que frecuentemente haremos al investigar grupos.  \n",
    "Las hojas de trabajo de Sage tienen extensas capacidades para hacer celdas con texto cuidadosamente formateado, incluyendo la posibilidad de usar comandos LaTeX para expresar matemáticas.  \n",
    "\n",
    "Así, si una pregunta pide explicaciones o comentarios, haga una nueva celda y comuníquese claramente con su audiencia.\n",
    "\n",
    "---\n",
    "\n",
    "1. Use el comando `next_prime()` para construir **dos primos diferentes de 8 dígitos** cada uno y guárdelos en variables llamadas `a` y `b`.\n",
    "\n",
    "2. Use el método `.is_prime()` para verificar que sus primos `a` y `b` son realmente primos.\n",
    "\n",
    "3. Verifique que  \n",
    "   $$\n",
    "   \\gcd(a, b) = 1\n",
    "   $$\n",
    "   es el máximo común divisor de los dos primos de los ejercicios anteriores.\n",
    "\n",
    "4. Encuentre **dos enteros** que formen una *combinación lineal entera* de los dos primos que sea igual a  \n",
    "   $$\n",
    "   1.\n",
    "   $$\n",
    "   Incluya una verificación de su resultado.\n",
    "\n",
    "5. Determine una factorización en potencias de primos para  \n",
    "   $$\n",
    "   c = 4598037234.\n",
    "   $$\n",
    "\n",
    "6. Escriba una celda que defina nuevamente el mismo valor de `c`, y luego defina un candidato a divisor de `c` llamado `d`.  \n",
    "   La tercera línea de la celda debe retornar `True` **si y solo si** `d` es un divisor de `c`.  \n",
    "\n",
    "   Ilustre el uso de su celda testeando su código con:\n",
    "   - `d = 7`\n",
    "   - en una nueva copia de la celda, testeando con `d = 11`.\n"
   ]
  },
  {
   "cell_type": "code",
   "execution_count": 21,
   "id": "5a3c7638-685c-42fd-a707-c9e4d03fe0f5",
   "metadata": {},
   "outputs": [
    {
     "name": "stdout",
     "output_type": "stream",
     "text": [
      "10000019 es Primo\n",
      "10000079 es Primo\n",
      "3820483249 es Compuesto y su factorización es 11 * 139 * 509 * 4909\n",
      "3485395874359 es Compuesto y su factorización es 7 * 17 * 88241 * 331921\n",
      "3485395874369 es Primo\n"
     ]
    },
    {
     "data": {
      "text/plain": [
       "True"
      ]
     },
     "execution_count": 21,
     "metadata": {},
     "output_type": "execute_result"
    }
   ],
   "source": [
    "# 1.Use el comando next_prime() para construir dos primos diferentes de 8 dígitos cada uno y guárdelos en variables llamadas a y b.\n",
    "\n",
    "a = 10^7                 # En Sage, ^ funciona como potencia para Integer\n",
    "numeros = []\n",
    "p1 = a.next_prime()\n",
    "numeros.append(p1)\n",
    "p2 =  p1.next_prime()\n",
    "numeros.append(p2)\n",
    "numeros.append(3820483249)\n",
    "numeros.append(3485395874359)\n",
    "numeros.append(3485395874359.next_prime())\n",
    "\n",
    "#2 Use el método .is_prime() para verificar que sus primos a y b son realmente primos.\n",
    "    \n",
    "for p in numeros:\n",
    "    prime = is_prime(p)\n",
    "    # Muestra la factorización SOLO si NO es primo\n",
    "    print(f\"{p} es {'Primo' if prime else 'Compuesto'}\"\n",
    "          f\"{'' if prime else f' y su factorización es {factor(p)}'}\")\n",
    "\n",
    "#3 Verifique que 1  es el máximo común divisor de los dos primos de los ejercicios anteriores.\n",
    "gcd(p1,p2) == 1"
   ]
  },
  {
   "cell_type": "code",
   "execution_count": 26,
   "id": "a752b096-8a26-4735-b946-10bfe01717f2",
   "metadata": {},
   "outputs": [
    {
     "name": "stdout",
     "output_type": "stream",
     "text": [
      "1 = -166668*10000019 + 166667*10000079\n"
     ]
    },
    {
     "data": {
      "text/plain": [
       "True"
      ]
     },
     "execution_count": 26,
     "metadata": {},
     "output_type": "execute_result"
    }
   ],
   "source": [
    "# 4 Encuentre dos enteros que formen una “combinación lineal” entera de los dos primos que sea igual a.\n",
    "# Incluya una verificación de su resultado.\n",
    "a = p1\n",
    "b = p2\n",
    "\n",
    "g,r,s = xgcd(a, b)\n",
    "print(f'{g} = {r}*{a} + {s}*{b}')\n",
    "# g = extended[0]\n",
    "# r = extended[1]\n",
    "# s = extended[2]\n",
    "g == r*a + s*b\n",
    "\n"
   ]
  },
  {
   "cell_type": "code",
   "execution_count": 30,
   "id": "e2ebaf3c-e195-453a-af51-5059efa087a5",
   "metadata": {},
   "outputs": [
    {
     "data": {
      "text/plain": [
       "2 * 3^2 * 7 * 36492359"
      ]
     },
     "execution_count": 30,
     "metadata": {},
     "output_type": "execute_result"
    }
   ],
   "source": [
    "# 5 Determine una factorización en potencias de primos para \n",
    "c = 4598037234\n",
    "c.factor()\n"
   ]
  },
  {
   "cell_type": "markdown",
   "id": "a7bdf3ed-d6fe-4e30-bd24-27d41fe61edd",
   "metadata": {},
   "source": [
    "### Ejercicio 6\n",
    "\n",
    "Escriba una celda que defina nuevamente el mismo valor de `c`, y luego defina un candidato a divisor de `c` llamado `d`.  \n",
    "La tercera línea de la celda debe retornar `True` **si y solo si** `d` es un divisor de `c`.\n",
    "\n",
    "Ilustre el uso de su celda testeando su código con:\n",
    "\n",
    "- `d = 7`  \n",
    "- en una nueva copia de la celda, testeando con `d = 11`.\n",
    "\n",
    "```python\n",
    "c = 4598037234\n",
    "d = 7\n",
    "c % d == 0\n"
   ]
  },
  {
   "cell_type": "code",
   "execution_count": 33,
   "id": "5e07b471-e8ed-48a1-965f-b55c94548e6f",
   "metadata": {},
   "outputs": [
    {
     "data": {
      "text/plain": [
       "True"
      ]
     },
     "execution_count": 33,
     "metadata": {},
     "output_type": "execute_result"
    }
   ],
   "source": [
    "d = 7\n",
    "d in divisors(c)"
   ]
  },
  {
   "cell_type": "code",
   "execution_count": 36,
   "id": "5ad75f48-e751-48b2-8ea0-181faaabbb9f",
   "metadata": {},
   "outputs": [
    {
     "data": {
      "text/plain": [
       "False"
      ]
     },
     "execution_count": 36,
     "metadata": {},
     "output_type": "execute_result"
    }
   ],
   "source": [
    "d = 73\n",
    "d in divisors(c)"
   ]
  },
  {
   "cell_type": "code",
   "execution_count": null,
   "id": "d66ba272-c14c-4f4c-ab5d-aeeb605995b7",
   "metadata": {},
   "outputs": [],
   "source": []
  }
 ],
 "metadata": {
  "kernelspec": {
   "display_name": "SageMath 10.4",
   "language": "sage",
   "name": "sagemath"
  },
  "language_info": {
   "codemirror_mode": {
    "name": "ipython",
    "version": 3
   },
   "file_extension": ".py",
   "mimetype": "text/x-python",
   "name": "python",
   "nbconvert_exporter": "python",
   "pygments_lexer": "ipython3",
   "version": "3.12.4"
  }
 },
 "nbformat": 4,
 "nbformat_minor": 5
}
