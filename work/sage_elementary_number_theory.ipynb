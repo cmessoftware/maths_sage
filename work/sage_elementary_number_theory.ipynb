{
 "cells": [
  {
   "cell_type": "markdown",
   "id": "ce6c68fd",
   "metadata": {},
   "source": [
    "# Teoría Elemental de Números con SageMath\n",
    "\n",
    "Este cuaderno cubre nociones básicas y prácticas:\n",
    "- Algoritmo de división\n",
    "- Máximo común divisor (MCD) y algoritmo de Euclides\n",
    "- Algoritmo de Euclides extendido y coeficientes de Bézout\n",
    "- Inverso modular y congruencias\n",
    "- Teorema Chino del Resto (TCR)\n",
    "- Potenciación modular\n",
    "- (Bonus) MCD de polinomios\n",
    "\n",
    "**Requisitos**: Seleccioná el *kernel* **SageMath** si Jupyter te lo pide.\n"
   ]
  },
  {
   "cell_type": "code",
   "execution_count": 1,
   "id": "c0db6337",
   "metadata": {},
   "outputs": [
    {
     "data": {
      "text/plain": [
       "('SageMath version 10.4, Release Date: 2024-07-19',\n",
       " '3.12.4 (main, Jul 20 2024, 01:19:25) [GCC 11.4.0]')"
      ]
     },
     "execution_count": 1,
     "metadata": {},
     "output_type": "execute_result"
    }
   ],
   "source": [
    "# Verificar versión de Sage y entorno\n",
    "version(), sys.version\n"
   ]
  },
  {
   "cell_type": "markdown",
   "id": "554a207b",
   "metadata": {},
   "source": [
    "## 1) Algoritmo de división\n",
    "\n",
    "Para enteros \\(a\\) y \\(b\\neq 0\\), existen únicos \\(q, r\\) tales que\n",
    "\\[ a = b\\,q + r,\\quad 0 \\le r < |b|. \\]\n",
    "En Sage, la división entera usa `//` y el resto `%`. Vamos a empaquetarlo y validar las condiciones."
   ]
  },
  {
   "cell_type": "code",
   "execution_count": 2,
   "id": "3e967823",
   "metadata": {},
   "outputs": [
    {
     "data": {
      "text/plain": [
       "[(23, 5, 4, 3),\n",
       " (23, -5, -5, -2),\n",
       " (-23, 5, -5, 2),\n",
       " (-23, -5, 4, -3),\n",
       " (100, 7, 14, 2)]"
      ]
     },
     "execution_count": 2,
     "metadata": {},
     "output_type": "execute_result"
    }
   ],
   "source": [
    "def division_algorithm(a, b):\n",
    "    if b == 0:\n",
    "        raise ZeroDivisionError(\"b no puede ser 0\")\n",
    "    q = a // b\n",
    "    r = a % b\n",
    "    # Asegurar la convención 0 <= r < |b|\n",
    "    # En Sage/% Python, para enteros, ya se cumple esta convención.\n",
    "    return q, r\n",
    "\n",
    "tests = [(23, 5), (23, -5), (-23, 5), (-23, -5), (100, 7)]\n",
    "[(a, b, ) + division_algorithm(a, b) for a, b in tests]"
   ]
  },
  {
   "cell_type": "code",
   "execution_count": 3,
   "id": "cfb51b71",
   "metadata": {},
   "outputs": [
    {
     "ename": "AssertionError",
     "evalue": "(23, -5, -5, -2)",
     "output_type": "error",
     "traceback": [
      "\u001b[0;31m---------------------------------------------------------------------------\u001b[0m",
      "\u001b[0;31mAssertionError\u001b[0m                            Traceback (most recent call last)",
      "Cell \u001b[0;32mIn[3], line 5\u001b[0m\n\u001b[1;32m      3\u001b[0m     q, r \u001b[38;5;241m=\u001b[39m division_algorithm(a, b)\n\u001b[1;32m      4\u001b[0m     \u001b[38;5;28;01massert\u001b[39;00m a \u001b[38;5;241m==\u001b[39m b\u001b[38;5;241m*\u001b[39mq \u001b[38;5;241m+\u001b[39m r, (a,b,q,r)\n\u001b[0;32m----> 5\u001b[0m     \u001b[38;5;28;01massert\u001b[39;00m Integer(\u001b[38;5;241m0\u001b[39m) \u001b[38;5;241m<\u001b[39m\u001b[38;5;241m=\u001b[39m r \u001b[38;5;241m<\u001b[39m \u001b[38;5;28mabs\u001b[39m(b), (a,b,q,r)\n\u001b[1;32m      6\u001b[0m \u001b[38;5;28mprint\u001b[39m(\u001b[38;5;124m\"\u001b[39m\u001b[38;5;124mOK división: todas las pruebas pasaron.\u001b[39m\u001b[38;5;124m\"\u001b[39m)\n",
      "\u001b[0;31mAssertionError\u001b[0m: (23, -5, -5, -2)"
     ]
    }
   ],
   "source": [
    "# Validación automática de la propiedad a = b*q + r, 0 <= r < |b|\n",
    "for a, b in tests:\n",
    "    q, r = division_algorithm(a, b)\n",
    "    assert a == b*q + r, (a,b,q,r)\n",
    "    assert 0 <= r < abs(b), (a,b,q,r)\n",
    "print(\"OK división: todas las pruebas pasaron.\")"
   ]
  },
  {
   "cell_type": "markdown",
   "id": "404dd052",
   "metadata": {},
   "source": [
    "## 2) MCD y algoritmo de Euclides\n",
    "El **MCD** puede calcularse con el algoritmo de Euclides, usando divisiones sucesivas.\n",
    "Sage provee `gcd(a,b)`, pero lo implementamos para ver los pasos."
   ]
  },
  {
   "cell_type": "code",
   "execution_count": 4,
   "id": "ff396114",
   "metadata": {},
   "outputs": [
    {
     "name": "stdout",
     "output_type": "stream",
     "text": [
      "Euclides para gcd(544, 119)\n",
      "544 = 119*4 + 68\n",
      "119 = 68*1 + 51\n",
      "68 = 51*1 + 17\n",
      "51 = 17*3 + 0\n",
      "gcd = 17\n"
     ]
    },
    {
     "data": {
      "text/plain": [
       "(17, 17)"
      ]
     },
     "execution_count": 4,
     "metadata": {},
     "output_type": "execute_result"
    }
   ],
   "source": [
    "def euclid_gcd(a, b, trace=True):\n",
    "    a, b = ZZ(a), ZZ(b)\n",
    "    if trace: print(f\"Euclides para gcd({a}, {b})\")\n",
    "    while b != 0:\n",
    "        q, r = a // b, a % b\n",
    "        if trace: print(f\"{a} = {b}*{q} + {r}\")\n",
    "        a, b = b, r\n",
    "    if trace: print(f\"gcd = {a}\")\n",
    "    return int(a)\n",
    "\n",
    "g1 = euclid_gcd(544, 119)\n",
    "g2 = gcd(544, 119)\n",
    "g1, g2"
   ]
  },
  {
   "cell_type": "markdown",
   "id": "fec187a9",
   "metadata": {},
   "source": [
    "## 3) Euclides extendido y coeficientes de Bézout\n",
    "Queremos \\(x, y\\) tales que \\(ax + by = \\gcd(a,b)\\). Sage da esto con `xgcd(a,b)`."
   ]
  },
  {
   "cell_type": "code",
   "execution_count": 6,
   "id": "e6fb9e4f",
   "metadata": {},
   "outputs": [
    {
     "name": "stdout",
     "output_type": "stream",
     "text": [
      "Manual: 2 2 -57 → 2\n",
      "Sage  : 2 2 -57 → 2\n"
     ]
    }
   ],
   "source": [
    "def extended_euclid(a, b):\n",
    "    # Implementación manual\n",
    "    old_r, r = a, b\n",
    "    old_s, s = 1, 0\n",
    "    old_t, t = 0, 1\n",
    "    while r != 0:\n",
    "        q = old_r // r\n",
    "        old_r, r = r, old_r - q*r\n",
    "        old_s, s = s, old_s - q*s\n",
    "        old_t, t = t, old_t - q*t\n",
    "    # old_r = gcd(a,b), old_s = x, old_t = y\n",
    "    return old_r, old_s, old_t\n",
    "\n",
    "a, b = 400, 14\n",
    "g, x, y = extended_euclid(a, b)\n",
    "gx, ux, vx = xgcd(a, b)  # Sage: (g, u, v)\n",
    "print(\"Manual:\", g, x, y, \"→\", a*x + b*y)\n",
    "print(\"Sage  :\", gx, ux, vx, \"→\", a*ux + b*vx)"
   ]
  },
  {
   "cell_type": "markdown",
   "id": "6f649bdc",
   "metadata": {},
   "source": [
    "## 4) Inverso modular y congruencias\n",
    "Para \\(a\\) invertible módulo \\(m\\) (i.e. \\(\\gcd(a,m)=1\\)), el inverso se obtiene con Euclides extendido.\n",
    "En Sage: `inverse_mod(a, m)`."
   ]
  },
  {
   "cell_type": "code",
   "execution_count": 7,
   "id": "ec22bd36",
   "metadata": {},
   "outputs": [
    {
     "name": "stdout",
     "output_type": "stream",
     "text": [
      "38 38 1\n"
     ]
    },
    {
     "data": {
      "text/plain": [
       "(8, 0)"
      ]
     },
     "execution_count": 7,
     "metadata": {},
     "output_type": "execute_result"
    }
   ],
   "source": [
    "def inv_mod_via_egcd(a, m):\n",
    "    g, x, y = extended_euclid(a, m)\n",
    "    if g != 1:\n",
    "        raise ValueError(f\"No existe inverso: gcd({a},{m})={g}\")\n",
    "    return x % m\n",
    "\n",
    "a, m = 17, 43\n",
    "inv1 = inv_mod_via_egcd(a, m)\n",
    "inv2 = inverse_mod(a, m)\n",
    "print(inv1, inv2, (a*inv1) % m)\n",
    "\n",
    "# Resolver a*x ≡ b (mod m): x ≡ b * a^{-1} mod m\n",
    "b = 7\n",
    "x_sol = (b * inverse_mod(a, m)) % m\n",
    "x_sol, (a*x_sol - b) % m"
   ]
  },
  {
   "cell_type": "markdown",
   "id": "51611bea",
   "metadata": {},
   "source": [
    "## 5) Teorema Chino del Resto (TCR)\n",
    "Si \\(m, n\\) son coprimos, existe solución única modulo \\(mn\\) a:\n",
    "\\[ x \\equiv a \\;(\\text{mod } m),\\quad x \\equiv b \\;(\\text{mod } n). \\]\n",
    "En Sage: `crt(a, b, m, n)`."
   ]
  },
  {
   "cell_type": "code",
   "execution_count": null,
   "id": "e6fdd264",
   "metadata": {},
   "outputs": [],
   "source": [
    "m, n = 14, 25\n",
    "a, b = 5, 17\n",
    "x = crt(a, b, m, n)\n",
    "x, x % m, x % n, lcm(m, n)"
   ]
  },
  {
   "cell_type": "markdown",
   "id": "64ded6e3",
   "metadata": {},
   "source": [
    "## 6) Potenciación modular (rápida)\n",
    "Sage trae `power_mod(base, exp, mod)`."
   ]
  },
  {
   "cell_type": "code",
   "execution_count": null,
   "id": "85bbf771",
   "metadata": {},
   "outputs": [],
   "source": [
    "power_mod(7, 560, 561), pow(7, 560, 561)  # Carmichael 561: pseudo-primo de Fermat para base 2\n"
   ]
  },
  {
   "cell_type": "markdown",
   "id": "0ca91efd",
   "metadata": {},
   "source": [
    "## 7) (Bonus) MCD de polinomios\n",
    "En \\(\\mathbb{Q}[x]\\) o \\(\\mathbb{Z}[x]\\) el algoritmo de Euclides funciona igual. Usemos `gcd` y `xgcd`."
   ]
  },
  {
   "cell_type": "code",
   "execution_count": null,
   "id": "c2df2e18",
   "metadata": {},
   "outputs": [],
   "source": [
    "R.<x> = QQ[]\n",
    "P = (x^4 - 1)\n",
    "Q = (x^3 - 1)\n",
    "gP = gcd(P, Q)\n",
    "gP, factor(gP)\n",
    "\n",
    "# Coeficientes de Bézout en polinomios\n",
    "g, U, V = xgcd(P, Q)\n",
    "g, (U*P + V*Q).simplify_full()\n"
   ]
  },
  {
   "cell_type": "markdown",
   "id": "8c579ea3",
   "metadata": {},
   "source": [
    "## 8) Ejercicios propuestos (con tests)\n",
    "**A.** Implementá `my_gcd(a, b)` usando restas en lugar de divisiones.\n",
    "\n",
    "**B.** Escribí `solve_linear_congruence(a, b, m)` que devuelva la lista de soluciones \\(x\\) de \\(a x \\equiv b\\ (\\bmod\\ m)\\). Pista: usá `g = gcd(a,m)`.\n",
    "\n",
    "**C.** Verificá computacionalmente que `gcd(F_m, F_n) == F_gcd(m, n)` para \\(m, n\\) al azar (Fibonacci)."
   ]
  },
  {
   "cell_type": "code",
   "execution_count": null,
   "id": "8aabf505",
   "metadata": {
    "tags": [
     "exercise"
    ]
   },
   "outputs": [],
   "source": [
    "def my_gcd(a, b):\n",
    "    a, b = abs(a), abs(b)\n",
    "    if a == 0: return b\n",
    "    if b == 0: return a\n",
    "    while a != b:\n",
    "        if a > b:\n",
    "            a = a - b\n",
    "        else:\n",
    "            b = b - a\n",
    "    return a\n",
    "\n",
    "assert my_gcd(544, 119) == gcd(544,119)\n",
    "assert my_gcd(0, 10) == 10 and my_gcd(10, 0) == 10\n",
    "print(\"OK my_gcd\")"
   ]
  },
  {
   "cell_type": "code",
   "execution_count": null,
   "id": "749b026e",
   "metadata": {
    "tags": [
     "exercise"
    ]
   },
   "outputs": [],
   "source": [
    "def solve_linear_congruence(a, b, m):\n",
    "    a, b, m = ZZ(a), ZZ(b), ZZ(m)\n",
    "    g = gcd(a, m)\n",
    "    if b % g != 0:\n",
    "        return []  # sin soluciones\n",
    "    # Reducir\n",
    "    a1, b1, m1 = a//g, b//g, m//g\n",
    "    x0 = (b1 * inverse_mod(a1, m1)) % m1\n",
    "    # g soluciones: x = x0 + k*(m1), k=0..g-1\n",
    "    return [(x0 + k*m1) % m for k in range(g)]\n",
    "\n",
    "sols = solve_linear_congruence(14, 30, 100)\n",
    "sols, [ (14*x - 30) % 100 for x in sols ]"
   ]
  },
  {
   "cell_type": "code",
   "execution_count": null,
   "id": "a353c94e",
   "metadata": {
    "tags": [
     "exercise"
    ]
   },
   "outputs": [],
   "source": [
    "def F(n):\n",
    "    # Fibonacci simple\n",
    "    a, b = 0, 1\n",
    "    for _ in range(n):\n",
    "        a, b = b, a+b\n",
    "    return a\n",
    "\n",
    "import random\n",
    "for _ in range(10):\n",
    "    m = randint(1, 200)\n",
    "    n = randint(1, 200)\n",
    "    assert gcd(F(m), F(n)) == F(gcd(m, n))\n",
    "print(\"OK identidad gcd(F_m, F_n) = F_{gcd(m,n)}\")"
   ]
  },
  {
   "cell_type": "markdown",
   "id": "c480bd1b",
   "metadata": {},
   "source": [
    "## 9) Mini caso práctico: clave modular (estilo RSA de juguete)\n",
    "1. Elegimos primos pequeños \\(p, q\\), \\(n = pq\\).\n",
    "2. \\(\\varphi(n) = (p-1)(q-1)\\).\n",
    "3. Elegimos \\(e\\) coprimo con \\(\\varphi(n)\\) y calculamos \\(d = e^{-1} \\bmod \\varphi(n)\\).\n",
    "4. Ciframos \\(c \\equiv m^e \\bmod n\\) y desciframos \\(m \\equiv c^d \\bmod n\\)."
   ]
  },
  {
   "cell_type": "code",
   "execution_count": null,
   "id": "3dd7bdda",
   "metadata": {},
   "outputs": [],
   "source": [
    "p, q = 101, 113\n",
    "n = p*q\n",
    "phi = (p-1)*(q-1)\n",
    "e = 17\n",
    "d = inverse_mod(e, phi)\n",
    "m = 1234\n",
    "c = power_mod(m, e, n)\n",
    "m_rec = power_mod(c, d, n)\n",
    "n, phi, e, d, c, m_rec"
   ]
  },
  {
   "cell_type": "markdown",
   "id": "d7aa7b07",
   "metadata": {},
   "source": [
    "---\n",
    "### Sugerencias\n",
    "- Probá `gcd` y `xgcd` con números grandes.\n",
    "- Experimentá con `GF(p)` (campos finitos) para aritmética modular más estructurada.\n",
    "- Para polinomios sobre campos finitos: `GF(101)['x']`.\n"
   ]
  }
 ],
 "metadata": {
  "authors": [
   {
    "email": "",
    "name": "ChatGPT (Elementary Number Theory Notebook)"
   }
  ],
  "created": "2025-09-21T20:23:52.856402Z",
  "kernelspec": {
   "display_name": "SageMath 10.4",
   "language": "sage",
   "name": "sagemath"
  },
  "language_info": {
   "codemirror_mode": {
    "name": "ipython",
    "version": 3
   },
   "file_extension": ".py",
   "mimetype": "text/x-python",
   "name": "python",
   "nbconvert_exporter": "python",
   "pygments_lexer": "ipython3",
   "version": "3.12.4"
  },
  "title": "Elementary Number Theory with SageMath"
 },
 "nbformat": 4,
 "nbformat_minor": 5
}
