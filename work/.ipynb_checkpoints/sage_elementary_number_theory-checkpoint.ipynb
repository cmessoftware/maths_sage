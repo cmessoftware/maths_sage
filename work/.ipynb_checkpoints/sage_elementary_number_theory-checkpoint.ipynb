{
  "nbformat": 4,
  "nbformat_minor": 5,
  "metadata": {
    "kernelspec": {
      "name": "sagemath",
      "display_name": "SageMath",
      "language": "sage"
    },
    "language_info": {
      "name": "sage",
      "mimetype": "text/x-sage",
      "file_extension": ".sage"
    },
    "authors": [
      {
        "name": "ChatGPT (Elementary Number Theory Notebook)",
        "email": ""
      }
    ],
    "created": "2025-09-21T20:23:52.856402Z",
    "title": "Elementary Number Theory with SageMath"
  },
  "cells": [
    {
      "cell_type": "markdown",
      "metadata": {},
      "source": [
        "# Teoría Elemental de Números con SageMath\n",
        "\n",
        "Este cuaderno cubre nociones básicas y prácticas:\n",
        "- Algoritmo de división\n",
        "- Máximo común divisor (MCD) y algoritmo de Euclides\n",
        "- Algoritmo de Euclides extendido y coeficientes de Bézout\n",
        "- Inverso modular y congruencias\n",
        "- Teorema Chino del Resto (TCR)\n",
        "- Potenciación modular\n",
        "- (Bonus) MCD de polinomios\n",
        "\n",
        "**Requisitos**: Seleccioná el *kernel* **SageMath** si Jupyter te lo pide.\n"
      ]
    },
    {
      "cell_type": "code",
      "metadata": {},
      "execution_count": null,
      "outputs": [],
      "source": [
        "# Verificar versión de Sage y entorno\n",
        "version(), sys.version\n"
      ]
    },
    {
      "cell_type": "markdown",
      "metadata": {},
      "source": [
        "## 1) Algoritmo de división\n",
        "\n",
        "Para enteros \\(a\\) y \\(b\\neq 0\\), existen únicos \\(q, r\\) tales que\n",
        "\\[ a = b\\,q + r,\\quad 0 \\le r < |b|. \\]\n",
        "En Sage, la división entera usa `//` y el resto `%`. Vamos a empaquetarlo y validar las condiciones."
      ]
    },
    {
      "cell_type": "code",
      "metadata": {},
      "execution_count": null,
      "outputs": [],
      "source": [
        "def division_algorithm(a, b):\n",
        "    if b == 0:\n",
        "        raise ZeroDivisionError(\"b no puede ser 0\")\n",
        "    q = a // b\n",
        "    r = a % b\n",
        "    # Asegurar la convención 0 <= r < |b|\n",
        "    # En Sage/% Python, para enteros, ya se cumple esta convención.\n",
        "    return q, r\n",
        "\n",
        "tests = [(23, 5), (23, -5), (-23, 5), (-23, -5), (100, 7)]\n",
        "[(a, b, ) + division_algorithm(a, b) for a, b in tests]"
      ]
    },
    {
      "cell_type": "code",
      "metadata": {},
      "execution_count": null,
      "outputs": [],
      "source": [
        "# Validación automática de la propiedad a = b*q + r, 0 <= r < |b|\n",
        "for a, b in tests:\n",
        "    q, r = division_algorithm(a, b)\n",
        "    assert a == b*q + r, (a,b,q,r)\n",
        "    assert 0 <= r < abs(b), (a,b,q,r)\n",
        "print(\"OK división: todas las pruebas pasaron.\")"
      ]
    },
    {
      "cell_type": "markdown",
      "metadata": {},
      "source": [
        "## 2) MCD y algoritmo de Euclides\n",
        "El **MCD** puede calcularse con el algoritmo de Euclides, usando divisiones sucesivas.\n",
        "Sage provee `gcd(a,b)`, pero lo implementamos para ver los pasos."
      ]
    },
    {
      "cell_type": "code",
      "metadata": {},
      "execution_count": null,
      "outputs": [],
      "source": [
        "def euclid_gcd(a, b, trace=True):\n",
        "    a, b = ZZ(a), ZZ(b)\n",
        "    if trace: print(f\"Euclides para gcd({a}, {b})\")\n",
        "    while b != 0:\n",
        "        q, r = a // b, a % b\n",
        "        if trace: print(f\"{a} = {b}*{q} + {r}\")\n",
        "        a, b = b, r\n",
        "    if trace: print(f\"gcd = {a}\")\n",
        "    return int(a)\n",
        "\n",
        "g1 = euclid_gcd(544, 119)\n",
        "g2 = gcd(544, 119)\n",
        "g1, g2"
      ]
    },
    {
      "cell_type": "markdown",
      "metadata": {},
      "source": [
        "## 3) Euclides extendido y coeficientes de Bézout\n",
        "Queremos \\(x, y\\) tales que \\(ax + by = \\gcd(a,b)\\). Sage da esto con `xgcd(a,b)`."
      ]
    },
    {
      "cell_type": "code",
      "metadata": {},
      "execution_count": null,
      "outputs": [],
      "source": [
        "def extended_euclid(a, b):\n",
        "    # Implementación manual\n",
        "    old_r, r = a, b\n",
        "    old_s, s = 1, 0\n",
        "    old_t, t = 0, 1\n",
        "    while r != 0:\n",
        "        q = old_r // r\n",
        "        old_r, r = r, old_r - q*r\n",
        "        old_s, s = s, old_s - q*s\n",
        "        old_t, t = t, old_t - q*t\n",
        "    # old_r = gcd(a,b), old_s = x, old_t = y\n",
        "    return old_r, old_s, old_t\n",
        "\n",
        "a, b = 544, 119\n",
        "g, x, y = extended_euclid(a, b)\n",
        "gx, ux, vx = xgcd(a, b)  # Sage: (g, u, v)\n",
        "print(\"Manual:\", g, x, y, \"→\", a*x + b*y)\n",
        "print(\"Sage  :\", gx, ux, vx, \"→\", a*ux + b*vx)"
      ]
    },
    {
      "cell_type": "markdown",
      "metadata": {},
      "source": [
        "## 4) Inverso modular y congruencias\n",
        "Para \\(a\\) invertible módulo \\(m\\) (i.e. \\(\\gcd(a,m)=1\\)), el inverso se obtiene con Euclides extendido.\n",
        "En Sage: `inverse_mod(a, m)`."
      ]
    },
    {
      "cell_type": "code",
      "metadata": {},
      "execution_count": null,
      "outputs": [],
      "source": [
        "def inv_mod_via_egcd(a, m):\n",
        "    g, x, y = extended_euclid(a, m)\n",
        "    if g != 1:\n",
        "        raise ValueError(f\"No existe inverso: gcd({a},{m})={g}\")\n",
        "    return x % m\n",
        "\n",
        "a, m = 17, 43\n",
        "inv1 = inv_mod_via_egcd(a, m)\n",
        "inv2 = inverse_mod(a, m)\n",
        "print(inv1, inv2, (a*inv1) % m)\n",
        "\n",
        "# Resolver a*x ≡ b (mod m): x ≡ b * a^{-1} mod m\n",
        "b = 7\n",
        "x_sol = (b * inverse_mod(a, m)) % m\n",
        "x_sol, (a*x_sol - b) % m"
      ]
    },
    {
      "cell_type": "markdown",
      "metadata": {},
      "source": [
        "## 5) Teorema Chino del Resto (TCR)\n",
        "Si \\(m, n\\) son coprimos, existe solución única modulo \\(mn\\) a:\n",
        "\\[ x \\equiv a \\;(\\text{mod } m),\\quad x \\equiv b \\;(\\text{mod } n). \\]\n",
        "En Sage: `crt(a, b, m, n)`."
      ]
    },
    {
      "cell_type": "code",
      "metadata": {},
      "execution_count": null,
      "outputs": [],
      "source": [
        "m, n = 14, 25\n",
        "a, b = 5, 17\n",
        "x = crt(a, b, m, n)\n",
        "x, x % m, x % n, lcm(m, n)"
      ]
    },
    {
      "cell_type": "markdown",
      "metadata": {},
      "source": [
        "## 6) Potenciación modular (rápida)\n",
        "Sage trae `power_mod(base, exp, mod)`."
      ]
    },
    {
      "cell_type": "code",
      "metadata": {},
      "execution_count": null,
      "outputs": [],
      "source": [
        "power_mod(7, 560, 561), pow(7, 560, 561)  # Carmichael 561: pseudo-primo de Fermat para base 2\n"
      ]
    },
    {
      "cell_type": "markdown",
      "metadata": {},
      "source": [
        "## 7) (Bonus) MCD de polinomios\n",
        "En \\(\\mathbb{Q}[x]\\) o \\(\\mathbb{Z}[x]\\) el algoritmo de Euclides funciona igual. Usemos `gcd` y `xgcd`."
      ]
    },
    {
      "cell_type": "code",
      "metadata": {},
      "execution_count": null,
      "outputs": [],
      "source": [
        "R.<x> = QQ[]\n",
        "P = (x^4 - 1)\n",
        "Q = (x^3 - 1)\n",
        "gP = gcd(P, Q)\n",
        "gP, factor(gP)\n",
        "\n",
        "# Coeficientes de Bézout en polinomios\n",
        "g, U, V = xgcd(P, Q)\n",
        "g, (U*P + V*Q).simplify_full()\n"
      ]
    },
    {
      "cell_type": "markdown",
      "metadata": {},
      "source": [
        "## 8) Ejercicios propuestos (con tests)\n",
        "**A.** Implementá `my_gcd(a, b)` usando restas en lugar de divisiones.\n",
        "\n",
        "**B.** Escribí `solve_linear_congruence(a, b, m)` que devuelva la lista de soluciones \\(x\\) de \\(a x \\equiv b\\ (\\bmod\\ m)\\). Pista: usá `g = gcd(a,m)`.\n",
        "\n",
        "**C.** Verificá computacionalmente que `gcd(F_m, F_n) == F_gcd(m, n)` para \\(m, n\\) al azar (Fibonacci)."
      ]
    },
    {
      "cell_type": "code",
      "metadata": {
        "tags": [
          "exercise"
        ]
      },
      "execution_count": null,
      "outputs": [],
      "source": [
        "def my_gcd(a, b):\n",
        "    a, b = abs(a), abs(b)\n",
        "    if a == 0: return b\n",
        "    if b == 0: return a\n",
        "    while a != b:\n",
        "        if a > b:\n",
        "            a = a - b\n",
        "        else:\n",
        "            b = b - a\n",
        "    return a\n",
        "\n",
        "assert my_gcd(544, 119) == gcd(544,119)\n",
        "assert my_gcd(0, 10) == 10 and my_gcd(10, 0) == 10\n",
        "print(\"OK my_gcd\")"
      ]
    },
    {
      "cell_type": "code",
      "metadata": {
        "tags": [
          "exercise"
        ]
      },
      "execution_count": null,
      "outputs": [],
      "source": [
        "def solve_linear_congruence(a, b, m):\n",
        "    a, b, m = ZZ(a), ZZ(b), ZZ(m)\n",
        "    g = gcd(a, m)\n",
        "    if b % g != 0:\n",
        "        return []  # sin soluciones\n",
        "    # Reducir\n",
        "    a1, b1, m1 = a//g, b//g, m//g\n",
        "    x0 = (b1 * inverse_mod(a1, m1)) % m1\n",
        "    # g soluciones: x = x0 + k*(m1), k=0..g-1\n",
        "    return [(x0 + k*m1) % m for k in range(g)]\n",
        "\n",
        "sols = solve_linear_congruence(14, 30, 100)\n",
        "sols, [ (14*x - 30) % 100 for x in sols ]"
      ]
    },
    {
      "cell_type": "code",
      "metadata": {
        "tags": [
          "exercise"
        ]
      },
      "execution_count": null,
      "outputs": [],
      "source": [
        "def F(n):\n",
        "    # Fibonacci simple\n",
        "    a, b = 0, 1\n",
        "    for _ in range(n):\n",
        "        a, b = b, a+b\n",
        "    return a\n",
        "\n",
        "import random\n",
        "for _ in range(10):\n",
        "    m = randint(1, 200)\n",
        "    n = randint(1, 200)\n",
        "    assert gcd(F(m), F(n)) == F(gcd(m, n))\n",
        "print(\"OK identidad gcd(F_m, F_n) = F_{gcd(m,n)}\")"
      ]
    },
    {
      "cell_type": "markdown",
      "metadata": {},
      "source": [
        "## 9) Mini caso práctico: clave modular (estilo RSA de juguete)\n",
        "1. Elegimos primos pequeños \\(p, q\\), \\(n = pq\\).\n",
        "2. \\(\\varphi(n) = (p-1)(q-1)\\).\n",
        "3. Elegimos \\(e\\) coprimo con \\(\\varphi(n)\\) y calculamos \\(d = e^{-1} \\bmod \\varphi(n)\\).\n",
        "4. Ciframos \\(c \\equiv m^e \\bmod n\\) y desciframos \\(m \\equiv c^d \\bmod n\\)."
      ]
    },
    {
      "cell_type": "code",
      "metadata": {},
      "execution_count": null,
      "outputs": [],
      "source": [
        "p, q = 101, 113\n",
        "n = p*q\n",
        "phi = (p-1)*(q-1)\n",
        "e = 17\n",
        "d = inverse_mod(e, phi)\n",
        "m = 1234\n",
        "c = power_mod(m, e, n)\n",
        "m_rec = power_mod(c, d, n)\n",
        "n, phi, e, d, c, m_rec"
      ]
    },
    {
      "cell_type": "markdown",
      "metadata": {},
      "source": [
        "---\n",
        "### Sugerencias\n",
        "- Probá `gcd` y `xgcd` con números grandes.\n",
        "- Experimentá con `GF(p)` (campos finitos) para aritmética modular más estructurada.\n",
        "- Para polinomios sobre campos finitos: `GF(101)['x']`.\n"
      ]
    }
  ]
}