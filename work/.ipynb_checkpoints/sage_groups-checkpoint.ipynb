{
 "cells": [
  {
   "cell_type": "markdown",
   "metadata": {},
   "source": [
    "# 🧮 Curso de Teoría de Grupos Finita\n",
    "Basado en *AATA (Judson)* y *Adventures in Group Theory (Joyner)*  \n",
    "Autor: **Sergio Salanitri (cmess1315)**  \n",
    "Ambiente sugerido: **SageMath / JupyterLab**\n",
    "\n",
    "---\n",
    "\n",
    "## 📘 Módulo 1 — Qué es un grupo\n",
    "\n",
    "### Definición\n",
    "Un **grupo** es un par $(G, *)$ donde:\n",
    "1. **Clausura:** si $a,b \\in G$, entonces $a*b \\in G$.\n",
    "2. **Asociatividad:** $(a*b)*c = a*(b*c)$.\n",
    "3. **Elemento neutro:** existe $e \\in G$ tal que $a*e = e*a = a$.\n",
    "4. **Inverso:** para cada $a$, existe $a^{-1}$ tal que $a*a^{-1} = e$.\n",
    "\n",
    "Si además $a*b = b*a$, el grupo es **abeliano**.\n",
    "\n",
    "---\n",
    "\n",
    "### Ejemplos\n",
    "| Grupo | Operación | Neutro | Inverso de $a$ | ¿Abeliano? |\n",
    "|--------|------------|---------|------------------|-------------|\n",
    "| $(\\mathbb{Z}, +)$ | suma | 0 | −a | ✅ |\n",
    "| $(\\mathbb{Q}^*, \\cdot)$ | producto | 1 | 1/a | ✅ |\n",
    "| $(\\mathbb{Z}_n, +)$ | suma módulo n | 0 | n−a | ✅ |\n",
    "| $U(n)=\\{a\\in \\mathbb{Z}_n: \\gcd(a,n)=1\\}$ | producto mod n | 1 | inverso modular | ✅ |\n",
    "| $S_3$ | composición | id | inversa de permutación | ❌ |\n",
    "\n",
    "---\n",
    "\n",
    "### 🔢 En SageMath\n"
   ]
  },
  {
   "cell_type": "code",
   "metadata": {},
   "source": [
    "# Grupo de unidades mod 8\n",
    "Zn = IntegerModRing(8)\n",
    "U8 = Zn.unit_group()\n",
    "U8, list(U8), U8.is_abelian(), [a^-1 for a in U8]"
   ]
  },
  {
   "cell_type": "markdown",
   "metadata": {},
   "source": [
    "---\n",
    "## 🧠 Ejercicios\n",
    "1. Verificá que $(\\mathbb{Z}_n,+)$ cumple los axiomas.\n",
    "2. Mostrá que $(\\mathbb{Z}_n, \\cdot)$ no es grupo.\n",
    "3. Hallá $U(8)$ y el inverso de 3 mod 8.\n",
    "4. Analizá las rotaciones de un triángulo equilátero: ¿forman un grupo?\n",
    "\n",
    "---\n",
    "## 📊 Visualización opcional\n"
   ]
  },
  {
   "cell_type": "code",
   "metadata": {},
   "source": [
    "import matplotlib.pyplot as plt, numpy as np\n",
    "n=8; theta=np.linspace(0,2*np.pi,n,endpoint=False)\n",
    "x=np.cos(theta); y=np.sin(theta)\n",
    "plt.scatter(x,y); [plt.text(1.1*x[i],1.1*y[i],str(i)) for i in range(n)]\n",
    "plt.axis('off'); plt.title('Reloj modular Z₈'); plt.show()"
   ]
  },
  {
   "cell_type": "markdown",
   "metadata": {},
   "source": [
    "# 📘 Módulo 2 — Subgrupos, generadores y órdenes\n",
    "\n",
    "### Definiciones\n",
    "- Subgrupo $H\\le G$ si $e\\in H$ y $a,b\\in H \\Rightarrow ab^{-1}\\in H$.\n",
    "- Subgrupo generado por $a$: $\\langle a \\rangle = \\{a^k:k\\in\\mathbb{Z}\\}$.\n",
    "- Orden de $a$: el menor $m>0$ tal que $a^m=e$.\n",
    "\n",
    "---\n",
    "### Ejemplo: $D_4$\n",
    "$D_4 = \\langle r,s \\mid r^4=s^2=1, srs=r^{-1} \\rangle$.\n",
    "\n",
    "---\n",
    "### En SageMath\n"
   ]
  },
  {
   "cell_type": "code",
   "metadata": {},
   "source": [
    "G = DihedralGroup(4)\n",
    "G.order(), G.gens(), [x.order() for x in G.gens()], [H.order() for H in G.subgroups()]"
   ]
  },
  {
   "cell_type": "markdown",
   "metadata": {},
   "source": [
    "---\n",
    "## Ejercicios\n",
    "1. Enumerar subgrupos de $\\mathbb{Z}_{12}$.\n",
    "2. Mostrar que el conjunto de rotaciones de $D_4$ es subgrupo.\n",
    "3. Calcular órdenes de elementos de $D_4$.\n",
    "4. Bonus: número de subgrupos cíclicos de $\\mathbb{Z}_{12}$.\n",
    "\n",
    "---\n",
    "## Visualización (rotación de cuadrado)\n"
   ]
  },
  {
   "cell_type": "code",
   "metadata": {},
   "source": [
    "import numpy as np, matplotlib.pyplot as plt\n",
    "sq=np.array([[1,1],[1,-1],[-1,-1],[-1,1],[1,1]])\n",
    "R=np.array([[0,-1],[1,0]])\n",
    "plt.plot(sq[:,0],sq[:,1],'k-'); plt.plot((sq@R.T)[:,0],(sq@R.T)[:,1],'r--')\n",
    "plt.axis('equal'); plt.axis('off'); plt.title('Simetrías D₄'); plt.show()"
   ]
  },
  {
   "cell_type": "markdown",
   "metadata": {},
   "source": [
    "# 📘 Módulo 3 — Permutaciones y ciclos\n",
    "\n",
    "### Definición\n",
    "Una **permutación** de $\\{1,\\dots,n\\}$ es una biyección.  \n",
    "El conjunto de todas ellas forma el **grupo simétrico** $S_n$.\n",
    "\n",
    "#### Propiedades\n",
    "- Toda permutación se descompone en ciclos disjuntos.\n",
    "- El orden de una permutación = m.c.m. de longitudes de sus ciclos.\n",
    "- Permutaciones pares/imp. según número de transposiciones.\n"
   ]
  },
  {
   "cell_type": "code",
   "metadata": {},
   "source": [
    "S3 = SymmetricGroup(3)\n",
    "sigma, tau = S3('(1,2,3)'), S3('(1,2)')\n",
    "sigma.order(), sigma.sign(), tau.sign(), sigma*tau"
   ]
  },
  {
   "cell_type": "markdown",
   "metadata": {},
   "source": [
    "## Ejercicios\n",
    "1. Listar todas las permutaciones de $S_3$ en notación cíclica.\n",
    "2. Probar que $S_3$ no es abeliano.\n",
    "3. Calcular orden de $(1 2 3 4 5)(6 7)$.\n",
    "4. Producto de dos permutaciones impares es par.\n",
    "\n",
    "---\n",
    "## Mini puzzle 3×3\n"
   ]
  },
  {
   "cell_type": "code",
   "metadata": {},
   "source": [
    "import numpy as np, matplotlib.pyplot as plt\n",
    "state=np.array([[1,2,3],[4,5,6],[7,8,0]])\n",
    "plt.imshow(np.ones_like(state)*0.9,cmap='Greys')\n",
    "for i in range(3):\n",
    "  for j in range(3):\n",
    "    if state[i,j]!=0: plt.text(j,i,str(state[i,j]),ha='center',va='center',fontsize=18)\n",
    "plt.axis('off'); plt.show()"
   ]
  },
  {
   "cell_type": "markdown",
   "metadata": {},
   "source": [
    "# 📘 Módulo 4 — Homomorfismos e Isomorfismos\n",
    "\n",
    "### Definición\n",
    "Una función $\\phi:G\\to H$ es **homomorfismo** si $\\phi(ab)=\\phi(a)\\phi(b)$.\n",
    "\n",
    "### Núcleo e imagen\n",
    "$$\\ker(\\phi)=\\{g\\in G: \\phi(g)=e_H\\},\\quad \\operatorname{Im}(\\phi)=\\{\\phi(g):g\\in G\\}$$\n",
    "\n",
    "### Primer teorema de isomorfía\n",
    "$$G/\\ker(\\phi) \\cong \\operatorname{Im}(\\phi)$$\n"
   ]
  },
  {
   "cell_type": "code",
   "metadata": {},
   "source": [
    "G = DihedralGroup(4)\n",
    "N = G.subgroup([G.gen(0)^2])\n",
    "Q = G.quotient(N)\n",
    "Q.structure_description()"
   ]
  },
  {
   "cell_type": "markdown",
   "metadata": {},
   "source": [
    "# 📘 Módulo 5 — Acciones de grupo y órbitas\n",
    "\n",
    "### Definición\n",
    "Una **acción** es $G\\times X\\to X$, $(g,x)\\mapsto g\\cdot x$, con:\n",
    "$e\\cdot x=x$, $(gh)\\cdot x=g\\cdot(h\\cdot x)$.\n",
    "\n",
    "### Fórmula órbita–estabilizador\n",
    "$$|G|=|\\text{Orb}(x)|\\,|\\text{Stab}(x)|$$\n",
    "\n",
    "### Lema de Burnside\n",
    "$$N=\\frac{1}{|G|}\\sum_{g\\in G}|\\text{Fix}(g)|$$\n"
   ]
  },
  {
   "cell_type": "code",
   "metadata": {},
   "source": [
    "var('k')\n",
    "G=DihedralGroup(4); PG=G.permutation_group()\n",
    "def fixcount(g): return k^(len(g.cycle_tuples()))\n",
    "(1/PG.order())*sum(fixcount(g) for g in PG)"
   ]
  },
  {
   "cell_type": "markdown",
   "metadata": {},
   "source": [
    "### Juegos de permutaciones\n",
    "- **15-puzzle:** sólo permutaciones pares.\n",
    "- **Cubo 2×2:** orientaciones $\\mathbb{Z}_3^7$ y permutaciones $A_8$.\n"
   ]
  },
  {
   "cell_type": "code",
   "metadata": {},
   "source": [
    "from sage.groups.perm_gps.permgroup_named import AlternatingGroup\n",
    "A8 = AlternatingGroup(8)\n",
    "3**7 * A8.order()"
   ]
  },
  {
   "cell_type": "markdown",
   "metadata": {},
   "source": [
    "# 📘 Módulo 6 — Cosets, índice y Lagrange\n",
    "\n",
    "### Cosets\n",
    "$aH=\\{ah:h\\in H\\}$, índice $[G:H]=$ número de cosets.\n",
    "\n",
    "### Teorema de Lagrange\n",
    "$$|G|=|H|\\,[G:H]$$\n",
    "\n",
    "---\n",
    "### En $\\mathbb{Z}$\n",
    "$a\\equiv b\\pmod{n} \\iff a-b\\in n\\mathbb{Z}$, las clases son cosets de $n\\mathbb{Z}$.\n"
   ]
  },
  {
   "cell_type": "code",
   "metadata": {},
   "source": [
    "Z=ZZ; n=5\n",
    "[[x for x in range(i,20,n)] for i in range(n)]"
   ]
  },
  {
   "cell_type": "markdown",
   "metadata": {},
   "source": [
    "# 📘 Módulo 7 — Productos directos y semidirectos\n",
    "\n",
    "### Producto directo\n",
    "$(g_1,h_1)(g_2,h_2)=(g_1g_2,h_1h_2)$.\n",
    "\n",
    "### Producto semidirecto\n",
    "$G=N\\rtimes H$, con acción $\\varphi(h)(n)=hnh^{-1}$.\n",
    "\n",
    "#### Ejemplo: $D_4=C_4\\rtimes C_2$\n",
    "$srs^{-1}=r^{-1}$.\n"
   ]
  },
  {
   "cell_type": "code",
   "metadata": {},
   "source": [
    "G=DihedralGroup(4)\n",
    "r,s=G.gens(); s*r*s^-1"
   ]
  }
 ],
 "metadata": {
  "kernelspec": {
   "display_name": "SageMath",
   "language": "sage",
   "name": "sagemath"
  },
  "language_info": {
   "codemirror_mode": {
    "name": "ipython",
    "version": 3
   },
   "file_extension": ".py",
   "mimetype": "text/x-python",
   "name": "python",
   "nbconvert_exporter": "python",
   "pygments_lexer": "ipython3",
   "version": "3.11"
  }
 },
 "nbformat": 4,
 "nbformat_minor": 5
}
