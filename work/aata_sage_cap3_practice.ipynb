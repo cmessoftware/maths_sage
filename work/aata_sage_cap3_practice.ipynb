{
 "cells": [
  {
   "cell_type": "markdown",
   "id": "7f470e07-8a01-447a-af27-ac0be4c4c355",
   "metadata": {},
   "source": [
    "## Ejercicios de ecuaciones de congruencias"
   ]
  },
  {
   "cell_type": "code",
   "execution_count": 1,
   "id": "0e6bf543-8737-45d1-a913-5e0178fe7517",
   "metadata": {},
   "outputs": [
    {
     "data": {
      "text/plain": [
       "(3, 2)"
      ]
     },
     "execution_count": 1,
     "metadata": {},
     "output_type": "execute_result"
    }
   ],
   "source": [
    "# A) 3x ≡ 2 (mod 7)\n",
    "#Método 1: con inverse_mod\n",
    "x1 = (inverse_mod(3, 7) * 2) % 7\n",
    "x1, (3*x1) % 7   # muestra la solución y verifica el residuo\n"
   ]
  },
  {
   "cell_type": "code",
   "execution_count": 2,
   "id": "d221b97e-f893-4685-9ea4-5af1814a1382",
   "metadata": {},
   "outputs": [
    {
     "data": {
      "text/plain": [
       "(3, 3, 2)"
      ]
     },
     "execution_count": 2,
     "metadata": {},
     "output_type": "execute_result"
    }
   ],
   "source": [
    "# 3x ≡ 2 (mod 7)\n",
    "#Método 2: trabajando en Z/nZ\n",
    "R = Zmod(7)\n",
    "x1b = (R(2) / R(3))          # elemento en Z/7Z\n",
    "x1b_lift = x1b.lift()        # representante entero en [0,6]\n",
    "x1b, x1b_lift, (3*x1b_lift) % 7\n"
   ]
  },
  {
   "cell_type": "code",
   "execution_count": 4,
   "id": "68a37b70-a64f-44a5-ae70-b74c7441e386",
   "metadata": {},
   "outputs": [
    {
     "data": {
      "text/plain": [
       "(7, 12)"
      ]
     },
     "execution_count": 4,
     "metadata": {},
     "output_type": "execute_result"
    }
   ],
   "source": [
    "# B) 5x+1≡13(mod23)\n",
    "\n",
    "x1 = (inverse_mod(5,23) * 12) % 23\n",
    "x1 , (5*x1) % 23       "
   ]
  },
  {
   "cell_type": "code",
   "execution_count": 5,
   "id": "11147195-4953-4857-afa4-6b1df91052c9",
   "metadata": {},
   "outputs": [
    {
     "data": {
      "text/plain": [
       "(7, 7, 13)"
      ]
     },
     "execution_count": 5,
     "metadata": {},
     "output_type": "execute_result"
    }
   ],
   "source": [
    "R = Zmod(23)\n",
    "x2b = (R(13) - 1) / R(5)     # (13-1)/5 en Z/23Z\n",
    "x2b_lift = x2b.lift()\n",
    "x2b, x2b_lift, (5*x2b_lift + 1) % 23\n"
   ]
  },
  {
   "cell_type": "markdown",
   "id": "232c94e6-0755-4ff3-8757-f0cc52149c6f",
   "metadata": {},
   "source": [
    "# ¿Qué significa `x1b = (R(2) / R(3))  # elemento en Z/7Z`?\n",
    "\n",
    "`R = Zmod(7)` crea el anillo $ \\mathbb{Z}/7\\mathbb{Z} $ (enteros módulo 7).  \n",
    "`R(2)` es la **clase de residuo** $[2]$ en $ \\mathbb{Z}/7\\mathbb{Z} $ y `R(3)` es $[3]$.\n",
    "\n",
    "El operador `/` en este anillo hace **división modular**, es decir **multiplicar por el inverso**:\n",
    "\n",
    "$$\n",
    "R(2)/R(3) \\;=\\; R(2)\\cdot (R(3))^{-1}.\n",
    "$$\n",
    "\n",
    "Como $7$ es primo, $ \\mathbb{Z}/7\\mathbb{Z} $ es un **cuerpo** y todo no nulo tiene inverso. En particular, $[3]^{-1}=[5]$ porque $3\\cdot5\\equiv 1 \\pmod{7}$.\n",
    "\n",
    "Por eso:\n",
    "$$\n",
    "x1b = [2]\\cdot[3]^{-1} = [2]\\cdot[5] = [10] = [3] \\pmod{7}.\n",
    "$$\n",
    "\n",
    "---\n",
    "\n",
    "## Cosas útiles en Sage\n",
    "\n",
    "```sage\n",
    "R = Zmod(7)\n",
    "x1b = R(2) / R(3)\n",
    "\n",
    "x1b                    # elemento en Z/7Z (clase de residuo)\n",
    "x1b.lift()             # representante entero canónico en [0,6] -> 3\n",
    "(3*x1b == R(2))        # True: verifica que 3 * x1b = 2 en Z/7Z\n",
    "R(3).inverse()         # inverso de 3 -> 5\n",
    "R(2) * R(3)^(-1)       # misma idea que dividir\n",
    "R(2) * inverse_mod(3,7)# equivalente usando inverse_mod\n"
   ]
  },
  {
   "cell_type": "code",
   "execution_count": 7,
   "id": "5d7cbed7-72ae-4383-8721-3da6f752a309",
   "metadata": {},
   "outputs": [
    {
     "ename": "ZeroDivisionError",
     "evalue": "inverse of Mod(9, 15) does not exist",
     "output_type": "error",
     "traceback": [
      "\u001b[0;31m---------------------------------------------------------------------------\u001b[0m",
      "\u001b[0;31mZeroDivisionError\u001b[0m                         Traceback (most recent call last)",
      "Cell \u001b[0;32mIn[7], line 6\u001b[0m\n\u001b[1;32m      3\u001b[0m b \u001b[38;5;241m=\u001b[39m Integer(\u001b[38;5;241m12\u001b[39m)\n\u001b[1;32m      4\u001b[0m m \u001b[38;5;241m=\u001b[39m Integer(\u001b[38;5;241m15\u001b[39m)\n\u001b[0;32m----> 6\u001b[0m x1 \u001b[38;5;241m=\u001b[39m (\u001b[43minverse_mod\u001b[49m\u001b[43m(\u001b[49m\u001b[43ma\u001b[49m\u001b[43m,\u001b[49m\u001b[43mm\u001b[49m\u001b[43m)\u001b[49m \u001b[38;5;241m*\u001b[39m b) \u001b[38;5;241m%\u001b[39m m\n\u001b[1;32m      7\u001b[0m x1 , (a\u001b[38;5;241m*\u001b[39mx1) \u001b[38;5;241m%\u001b[39m m       \n",
      "File \u001b[0;32m~/sage/local/var/lib/sage/venv-python3.12.4/lib/python3.12/site-packages/sage/arith/misc.py:2177\u001b[0m, in \u001b[0;36minverse_mod\u001b[0;34m(a, m)\u001b[0m\n\u001b[1;32m   2152\u001b[0m \u001b[38;5;250m\u001b[39m\u001b[38;5;124;03m\"\"\"\u001b[39;00m\n\u001b[1;32m   2153\u001b[0m \u001b[38;5;124;03mThe inverse of the ring element a modulo m.\u001b[39;00m\n\u001b[1;32m   2154\u001b[0m \n\u001b[0;32m   (...)\u001b[0m\n\u001b[1;32m   2174\u001b[0m \u001b[38;5;124;03m    3\u001b[39;00m\n\u001b[1;32m   2175\u001b[0m \u001b[38;5;124;03m\"\"\"\u001b[39;00m\n\u001b[1;32m   2176\u001b[0m \u001b[38;5;28;01mtry\u001b[39;00m:\n\u001b[0;32m-> 2177\u001b[0m     \u001b[38;5;28;01mreturn\u001b[39;00m \u001b[43ma\u001b[49m\u001b[38;5;241;43m.\u001b[39;49m\u001b[43minverse_mod\u001b[49m\u001b[43m(\u001b[49m\u001b[43mm\u001b[49m\u001b[43m)\u001b[49m\n\u001b[1;32m   2178\u001b[0m \u001b[38;5;28;01mexcept\u001b[39;00m \u001b[38;5;167;01mAttributeError\u001b[39;00m:\n\u001b[1;32m   2179\u001b[0m     \u001b[38;5;28;01mreturn\u001b[39;00m Integer(a)\u001b[38;5;241m.\u001b[39minverse_mod(m)\n",
      "File \u001b[0;32m~/sage/local/var/lib/sage/venv-python3.12.4/lib/python3.12/site-packages/sage/rings/integer.pyx:6971\u001b[0m, in \u001b[0;36msage.rings.integer.Integer.inverse_mod (build/cythonized/sage/rings/integer.c:57969)\u001b[0;34m()\u001b[0m\n\u001b[1;32m   6969\u001b[0m sig_off()\n\u001b[1;32m   6970\u001b[0m if r == 0:\n\u001b[0;32m-> 6971\u001b[0m     raise ZeroDivisionError(f\"inverse of Mod({self}, {m}) does not exist\")\n\u001b[1;32m   6972\u001b[0m return ans\n\u001b[1;32m   6973\u001b[0m \n",
      "\u001b[0;31mZeroDivisionError\u001b[0m: inverse of Mod(9, 15) does not exist"
     ]
    }
   ],
   "source": [
    "# B') ax≡b(mod m)\n",
    "a = 9\n",
    "b = 12\n",
    "m = 15\n",
    "\n",
    "x1 = (inverse_mod(a,m) * b) % m\n",
    "x1 , (a*x1) % m       "
   ]
  },
  {
   "cell_type": "code",
   "execution_count": 8,
   "id": "9cda5bd5-5ca6-4d0e-b467-12ed05717809",
   "metadata": {},
   "outputs": [
    {
     "ename": "ZeroDivisionError",
     "evalue": "inverse of Mod(9, 15) does not exist",
     "output_type": "error",
     "traceback": [
      "\u001b[0;31m---------------------------------------------------------------------------\u001b[0m",
      "\u001b[0;31mZeroDivisionError\u001b[0m                         Traceback (most recent call last)",
      "Cell \u001b[0;32mIn[8], line 2\u001b[0m\n\u001b[1;32m      1\u001b[0m R \u001b[38;5;241m=\u001b[39m Zmod(m)\n\u001b[0;32m----> 2\u001b[0m x2b \u001b[38;5;241m=\u001b[39m \u001b[43m(\u001b[49m\u001b[43mR\u001b[49m\u001b[43m(\u001b[49m\u001b[43mInteger\u001b[49m\u001b[43m(\u001b[49m\u001b[38;5;241;43m12\u001b[39;49m\u001b[43m)\u001b[49m\u001b[43m)\u001b[49m\u001b[43m)\u001b[49m\u001b[43m \u001b[49m\u001b[38;5;241;43m/\u001b[39;49m\u001b[43m \u001b[49m\u001b[43mR\u001b[49m\u001b[43m(\u001b[49m\u001b[43ma\u001b[49m\u001b[43m)\u001b[49m     \u001b[38;5;66;03m# (13-1)/5 en Z/23Z\u001b[39;00m\n\u001b[1;32m      3\u001b[0m x2b_lift \u001b[38;5;241m=\u001b[39m x2b\u001b[38;5;241m.\u001b[39mlift()\n\u001b[1;32m      4\u001b[0m x2b, x2b_lift, (a\u001b[38;5;241m*\u001b[39mx2b_lift) \u001b[38;5;241m%\u001b[39m m\n",
      "File \u001b[0;32m~/sage/local/var/lib/sage/venv-python3.12.4/lib/python3.12/site-packages/sage/structure/element.pyx:1734\u001b[0m, in \u001b[0;36msage.structure.element.Element.__truediv__ (build/cythonized/sage/structure/element.c:21248)\u001b[0;34m()\u001b[0m\n\u001b[1;32m   1732\u001b[0m cdef int cl = classify_elements(left, right)\n\u001b[1;32m   1733\u001b[0m if HAVE_SAME_PARENT(cl):\n\u001b[0;32m-> 1734\u001b[0m     return (<Element>left)._div_(right)\n\u001b[1;32m   1735\u001b[0m if BOTH_ARE_ELEMENT(cl):\n\u001b[1;32m   1736\u001b[0m     return coercion_model.bin_op(left, right, truediv)\n",
      "File \u001b[0;32m~/sage/local/var/lib/sage/venv-python3.12.4/lib/python3.12/site-packages/sage/rings/finite_rings/integer_mod.pyx:2649\u001b[0m, in \u001b[0;36msage.rings.finite_rings.integer_mod.IntegerMod_int._div_ (build/cythonized/sage/rings/finite_rings/integer_mod.c:39910)\u001b[0;34m()\u001b[0m\n\u001b[1;32m   2647\u001b[0m right_inverse = self._modulus.inverses[(<IntegerMod_int>right).ivalue]\n\u001b[1;32m   2648\u001b[0m if right_inverse is None:\n\u001b[0;32m-> 2649\u001b[0m     raise ZeroDivisionError(f\"inverse of Mod({right}, {self._modulus.sageInteger}) does not exist\")\n\u001b[1;32m   2650\u001b[0m else:\n\u001b[1;32m   2651\u001b[0m     return self._new_c((self.ivalue * (<IntegerMod_int>right_inverse).ivalue) % self._modulus.int32)\n",
      "\u001b[0;31mZeroDivisionError\u001b[0m: inverse of Mod(9, 15) does not exist"
     ]
    }
   ],
   "source": [
    "R = Zmod(m)\n",
    "x2b = (R(12)) / R(a)     # (13-1)/5 en Z/23Z\n",
    "x2b_lift = x2b.lift()\n",
    "x2b, x2b_lift, (a*x2b_lift) % m\n"
   ]
  },
  {
   "cell_type": "markdown",
   "id": "23b547fa-e5e9-4856-bf3b-41bfc4720bc7",
   "metadata": {},
   "source": [
    "# OJO!!! \n",
    "## Este abordaje de usar el inverse_mod(a,m) solo aplica cuando m es primo, pues en ese caso todas las clases modulo m tiene ivnerso, si m es compuesto no todos tiene inverso\n",
    "## y este abordaje falla, como se ve más arriba."
   ]
  },
  {
   "cell_type": "markdown",
   "id": "798da005-c07f-46e8-a6c6-813590169e51",
   "metadata": {},
   "source": [
    "# ¿Cuándo falla el método del inverso en congruencias modulares?\n",
    "\n",
    "El “abordaje del inverso” falla cuando $a$ no es invertible módulo $n$, es decir, cuando $\\gcd(a,n)\\neq 1$.  \n",
    "En $\\mathbb{Z}/n\\mathbb{Z}$ sólo se puede dividir por **unidades** (clases coprimas con $n$).\n",
    "\n",
    "---\n",
    "\n",
    "## Regla general para $a x \\equiv b \\pmod n$\n",
    "\n",
    "Sea $d=\\gcd(a,n)$.\n",
    "\n",
    "1. Si $d \\nmid b$ ⇒ **no hay solución**.\n",
    "2. Si $d \\mid b$ ⇒ **sí hay soluciones**. Reducí:\n",
    "   $$\n",
    "   a'=\\frac{a}{d},\\quad b'=\\frac{b}{d},\\quad n'=\\frac{n}{d}.\n",
    "   $$\n",
    "   Como $\\gcd(a',n')=1$, existe $a'^{-1}\\pmod{n'}$ y\n",
    "   $$\n",
    "   x_0 \\equiv a'^{-1}\\,b' \\pmod{n'}.\n",
    "   $$\n",
    "   Las **soluciones módulo $n$** son\n",
    "   $$\n",
    "   x \\equiv x_0 \\pmod{n'} \\;\\Longleftrightarrow\\; x = x_0 + k\\,n',\\; k=0,1,\\dots,d-1.\n",
    "   $$\n",
    "   (Hay $d$ clases distintas módulo $n$.)\n",
    "\n",
    "---\n",
    "\n",
    "## Ejemplos\n",
    "\n",
    "**1) $6x\\equiv 8 \\pmod{14}$**  \n",
    "$d=\\gcd(6,14)=2$ y $2\\mid 8$ ⇒ reducimos a\n",
    "$$\n",
    "3x\\equiv 4 \\pmod 7.\n",
    "$$\n",
    "Como $3^{-1}\\equiv 5 \\pmod 7$, entonces\n",
    "$$\n",
    "x_0 \\equiv 5\\cdot 4 \\equiv 20 \\equiv 6 \\pmod 7.\n",
    "$$\n",
    "Soluciones módulo $14$:\n",
    "$$\n",
    "x \\equiv 6,\\,13 \\pmod{14}\\quad(\\text{i.e. } x=6+7k,\\;k=0,1).\n",
    "$$\n",
    "\n",
    "**2) $6x\\equiv 7 \\pmod{14}$**  \n",
    "$d=2\\nmid 7$ ⇒ **no tiene solución**.\n",
    "\n",
    "---\n",
    "\n",
    "## En SageMath (robusto también para $n$ compuesto)\n",
    "\n",
    "```sage\n",
    "def resolver_congruencia(a, b, n):\n",
    "    d = gcd(a, n)\n",
    "    if b % d != 0:\n",
    "        return dict(tiene_solucion=False, mensaje=\"No hay solución\", gcd=d)\n",
    "    a1, b1, n1 = a//d, b//d, n//d\n",
    "    x0 = (inverse_mod(a1, n1) * b1) % n1\n",
    "    soluciones_mod_n = [(x0 + k*n1) % n for k in range(d)]\n",
    "    return dict(tiene_solucion=True, gcd=d, x0_mod_n1=x0, modulo_reducido=n1,\n",
    "                clases_distintas_mod_n=sorted(set(soluciones_mod_n)))\n",
    "\n",
    "# Ejemplos\n",
    "resolver_congruencia(6, 8, 14)   # -> solvable (dos clases mod 14)\n",
    "resolver_congruencia(6, 7, 14)   # -> no solvable\n"
   ]
  },
  {
   "cell_type": "code",
   "execution_count": 18,
   "id": "5d9d0935-fac3-4a4a-964e-f225c2560316",
   "metadata": {},
   "outputs": [],
   "source": [
    "def resolver_congruencia(a, b, n):\n",
    "    d = gcd(a, n)\n",
    "    if b % d != 0:\n",
    "        return dict(tiene_solucion=False, mensaje=\"No hay solución\", gcd=d)\n",
    "    a1, b1, n1 = a//d, b//d, n//d\n",
    "    x0 = (inverse_mod(a1, n1) * b1) % n1\n",
    "    soluciones_mod_n = [(x0 + k*n1) % n for k in range(d)]\n",
    "    return dict(tiene_solucion=True, gcd=d, x0_mod_n1=x0, modulo_reducido=n1,\n",
    "                clases_distintas_mod_n=sorted(set(soluciones_mod_n)))\n"
   ]
  },
  {
   "cell_type": "code",
   "execution_count": 19,
   "id": "7dc96afc-c8da-4289-b12c-56d092db6680",
   "metadata": {},
   "outputs": [
    {
     "data": {
      "text/plain": [
       "{'tiene_solucion': True,\n",
       " 'gcd': 3,\n",
       " 'x0_mod_n1': 3,\n",
       " 'modulo_reducido': 5,\n",
       " 'clases_distintas_mod_n': [3, 8, 13]}"
      ]
     },
     "execution_count": 19,
     "metadata": {},
     "output_type": "execute_result"
    }
   ],
   "source": [
    "resolver_congruencia(9, 12, 15)   # -> solvable (dos clases mod 14)\n"
   ]
  },
  {
   "cell_type": "code",
   "execution_count": 20,
   "id": "e3735f3c-78fc-43dd-8e7a-7f2caba09e74",
   "metadata": {},
   "outputs": [
    {
     "data": {
      "text/plain": [
       "{'tiene_solucion': False, 'mensaje': 'No hay solución', 'gcd': 2}"
      ]
     },
     "execution_count": 20,
     "metadata": {},
     "output_type": "execute_result"
    }
   ],
   "source": [
    "resolver_congruencia(6, 7, 14)   # -> no solvable"
   ]
  },
  {
   "cell_type": "code",
   "execution_count": 21,
   "id": "67fc6a72-b0b5-4bd5-812c-9a10d064bb5e",
   "metadata": {},
   "outputs": [
    {
     "data": {
      "text/plain": [
       "{'tiene_solucion': True,\n",
       " 'gcd': 1,\n",
       " 'x0_mod_n1': 18,\n",
       " 'modulo_reducido': 26,\n",
       " 'clases_distintas_mod_n': [18]}"
      ]
     },
     "execution_count": 21,
     "metadata": {},
     "output_type": "execute_result"
    }
   ],
   "source": [
    "resolver_congruencia(5,12,26)"
   ]
  },
  {
   "cell_type": "code",
   "execution_count": 22,
   "id": "7d5bb149-7489-4ca3-81ef-6d2e66bd701a",
   "metadata": {},
   "outputs": [
    {
     "data": {
      "text/plain": [
       "(18, 12)"
      ]
     },
     "execution_count": 22,
     "metadata": {},
     "output_type": "execute_result"
    }
   ],
   "source": [
    "# B) 5x+1≡13(mod26)\n",
    "a = 5\n",
    "b = 12\n",
    "m = 26\n",
    "\n",
    "x1 = (inverse_mod(a,m) * b) % m\n",
    "x1 , (a*x1) % m             "
   ]
  }
 ],
 "metadata": {
  "kernelspec": {
   "display_name": "SageMath 10.4",
   "language": "sage",
   "name": "sagemath"
  },
  "language_info": {
   "codemirror_mode": {
    "name": "ipython",
    "version": 3
   },
   "file_extension": ".py",
   "mimetype": "text/x-python",
   "name": "python",
   "nbconvert_exporter": "python",
   "pygments_lexer": "ipython3",
   "version": "3.12.4"
  }
 },
 "nbformat": 4,
 "nbformat_minor": 5
}
