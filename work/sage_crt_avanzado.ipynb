{
  "nbformat": 4,
  "nbformat_minor": 5,
  "metadata": {
    "kernelspec": {
      "name": "sagemath",
      "display_name": "SageMath",
      "language": "sage"
    },
    "language_info": {
      "name": "sage",
      "mimetype": "text/x-sage",
      "file_extension": ".sage"
    },
    "title": "CRT Avanzado con SageMath",
    "created": "2025-09-21T20:33:52.777268Z"
  },
  "cells": [
    {
      "cell_type": "markdown",
      "metadata": {},
      "source": "# Teorema Chino del Resto — **Avanzado** (SageMath)\n\nEste cuaderno extiende el CRT más allá del caso básico de módulos coprimos. Incluye:\n\n1. **Módulos no coprimos**: criterio de consistencia y solución única módulo `lcm`.\n2. **Idempotentes canónicos** para recomposición rápida cuando los módulos son coprimos.\n3. **Representación *mixed‑radix*** y **Algoritmo de Garner** (útil en RNS).\n4. **Lifting de Hensel (lineal)** para subir soluciones de `p` a `p^k`.\n5. **Aplicación práctica**: aceleración de RSA con CRT.\n6. **CRT en polinomios** (en `GF(p)[x]`).\n\n> **Kernel**: Seleccioná **SageMath** si Jupyter lo solicita.\n"
    },
    {
      "cell_type": "code",
      "metadata": {},
      "execution_count": null,
      "outputs": [],
      "source": "# Comprobación de entorno\nversion(), sys.version\n"
    },
    {
      "cell_type": "markdown",
      "metadata": {},
      "source": "## 1) CRT **general** con módulos no coprimos\n\nPara\n\n\\[\nx \\equiv a_1 \\pmod{m_1},\\quad\nx \\equiv a_2 \\pmod{m_2},\n\\]\n\nhay solución **ssi** \\(a_1 \\equiv a_2 \\pmod{g}\\) con \\(g=\\gcd(m_1,m_2)\\).\nSi existe, es **única módulo** \\(\\operatorname{lcm}(m_1,m_2)\\).\n"
    },
    {
      "cell_type": "code",
      "metadata": {},
      "execution_count": null,
      "outputs": [],
      "source": "def crt_pair_general(a1, m1, a2, m2):\n    # Resuelve x ≡ a1 (mod m1) y x ≡ a2 (mod m2) con m1, m2 arbitrarios.\n    # Devuelve (x0, M) con x ≡ x0 (mod M), M = lcm(m1, m2).\n    # Lanza ValueError si no hay solución.\n    a1, m1, a2, m2 = ZZ(a1), ZZ(m1), ZZ(a2), ZZ(m2)\n    g = gcd(m1, m2)\n    if (a2 - a1) % g != 0:\n        raise ValueError(f\"No hay solución: {a1} no es ≡ {a2} (mod {g})\")\n    m1p, m2p = m1 // g, m2 // g  # cocientes coprimos\n    rhs = (a2 - a1) // g\n    t = (rhs * inverse_mod(m1p % m2p, m2p)) % m2p  # m1' * t ≡ rhs (mod m2')\n    x0 = a1 + m1 * t\n    M = lcm(m1, m2)\n    return (x0 % M, M)\n\ndef crt_general(residuos, modulos):\n    # Combina x ≡ r_i (mod m_i) encadenando pares.\n    # Verifica consistencia paso a paso y devuelve (x0, M) con M = lcm(m_i).\n    if len(residuos) != len(modulos):\n        raise ValueError(\"Longitudes no coinciden\")\n    x, M = ZZ(residuos[0]), ZZ(modulos[0])\n    for r, m in zip(residuos[1:], modulos[1:]):\n        x, M = crt_pair_general(x, M, ZZ(r), ZZ(m))\n    return x, M\n\n# Ejemplo consistente (módulos no coprimos): gcd(6, 9) = 3\nx0, M = crt_general([2, 5], [6, 9])\nx0, M, x0 % 6, x0 % 9\n"
    },
    {
      "cell_type": "markdown",
      "metadata": {},
      "source": "**Tests rápidos**\n"
    },
    {
      "cell_type": "code",
      "metadata": {},
      "execution_count": null,
      "outputs": [],
      "source": "# Caso sin solución\ntry:\n    crt_pair_general(2, 6, 4, 9)  # 2 ≡? 4 (mod 3) → no\nexcept ValueError as e:\n    print(\"OK (sin solución):\", e)\n\n# Multimódulo (con mezcla de coprimos/no coprimos)\nx0, M = crt_general([1, 3, 2], [8, 12, 9])\nx0, M, [x0 % m for m in [8, 12, 9]]\n"
    },
    {
      "cell_type": "markdown",
      "metadata": {},
      "source": "## 2) Idempotentes canónicos (módulos coprimos)\n\nSi \\(n=\\prod m_i\\) con \\(m_i\\) **coprimos** dos a dos, existen idempotentes \\(e_i\\) tales que\n\\(e_i\\equiv 1\\pmod{m_i}\\) y \\(e_i\\equiv 0\\) módulo los otros. Entonces\n\\(x \\equiv \\sum_i r_i \\, e_i \\pmod{n}\\).\n"
    },
    {
      "cell_type": "code",
      "metadata": {},
      "execution_count": null,
      "outputs": [],
      "source": "def crt_idempotents(mods):\n    # mods: lista de módulos coprimos dos a dos.\n    # Devuelve (n, [e_i]) idempotentes canónicos modulo n=prod(mods).\n    mods = list(map(ZZ, mods))\n    n = prod(mods)\n    es = []\n    for mi in mods:\n        Ni = n // mi\n        g, ui, _ = xgcd(Ni, mi)  # ui es inverso de Ni mod mi (g=1)\n        ei = (Ni * ui) % n\n        es.append(ei)\n    return n, es\n\nmods = [7, 11, 13]\nn, es = crt_idempotents(mods)\n# Verificación patrón 1/0\n[[ei % m for m in mods] for ei in es]\n"
    },
    {
      "cell_type": "code",
      "metadata": {},
      "execution_count": null,
      "outputs": [],
      "source": "# Reconstrucción con idempotentes\nres = [3, 10, 5]\nx = sum(r*e for r, e in zip(res, es)) % n\nx, [x % m for m in mods]\n"
    },
    {
      "cell_type": "markdown",
      "metadata": {},
      "source": "## 3) Algoritmo de **Garner** (mixed‑radix), módulos coprimos\n\nReescribe el número como\n\\(x = c_1 + c_2 m_1 + c_3 m_1m_2 + \\cdots\\)\na partir de residuos \\((r_i \\bmod m_i)\\), evitando números grandes intermedios (útil en **RNS**).\n"
    },
    {
      "cell_type": "code",
      "metadata": {},
      "execution_count": null,
      "outputs": [],
      "source": "def garner(residuos, modulos):\n    # Devuelve coeficientes c_i (mixed-radix) tales que\n    #   x = c0 + c1*m0 + c2*m0*m1 + ...\n    # Requiere módulos coprimos y residuos dados mod m_i.\n    r = list(map(ZZ, residuos))\n    m = list(map(ZZ, modulos))\n    k = len(m)\n    C = [ZZ(0)] * k   # \"constantes\" acumuladas por módulo\n    A = [ZZ(1)] * k   # \"coeficientes\" acumulados por módulo\n    c = [ZZ(0)] * k   # coeficientes mixed-radix (salida)\n    for i in range(k):\n        t = ((r[i] - C[i]) * inverse_mod(A[i] % m[i], m[i])) % m[i]\n        c[i] = t\n        for j in range(i+1, k):\n            C[j] = (C[j] + A[j]*t) % m[j]\n            A[j] = (A[j] * m[i]) % m[j]\n    return c\n\ndef garner_reconstruct(c, m):\n    x = ZZ(0)\n    base = ZZ(1)\n    for ci, mi in zip(c, m):\n        x += ci * base\n        base *= mi\n    return x\n\nmods = [7, 11, 13]\nres = [3, 10, 5]\nc = garner(res, mods)\nx = garner_reconstruct(c, mods)\nx, c, [x % mi for mi in mods]\n"
    },
    {
      "cell_type": "markdown",
      "metadata": {},
      "source": "## 4) **Hensel lifting (lineal)**: de \\(p\\) a \\(p^k\\)\n\nPara la congruencia lineal \\(a x \\equiv b \\pmod{p^k}\\) con \\(p\\) primo y \\(\\gcd(a,p)=1\\),\nsi conocemos \\(x_1\\) tal que \\(a x_1 \\equiv b \\pmod p\\), podemos **elevar** la solución a potencias superiores de \\(p\\).\n"
    },
    {
      "cell_type": "code",
      "metadata": {},
      "execution_count": null,
      "outputs": [],
      "source": "def hensel_lift_linear(a, b, p, k):\n    # Resuelve a*x ≡ b (mod p^k), con p primo y gcd(a,p)=1.\n    a, b, p, k = ZZ(a), ZZ(b), ZZ(p), ZZ(k)\n    assert is_prime(p) and gcd(a, p) == 1\n    # Nivel base (mod p)\n    x = (b * inverse_mod(a, p)) % p\n    mod = p\n    for _ in range(1, k):\n        # x actual resuelve mod p^t. Buscamos x' = x + t*p^t tal que a*x' ≡ b (mod p^{t+1}).\n        # (b - a*x) es múltiplo de p^t; dividimos por p^t y resolvemos mod p.\n        s = ((b - a*x) // mod) % p\n        t_corr = (s * inverse_mod(a % p, p)) % p\n        x = x + t_corr * mod\n        mod *= p\n    return x % mod\n\n# Ejemplo: resolver 7*x ≡ 3 (mod 5^4)\nhensel_lift_linear(7, 3, 5, 4)\n"
    },
    {
      "cell_type": "markdown",
      "metadata": {},
      "source": "## 5) Aplicación: **RSA con CRT** (descifrado rápido)\n\nSi \\(n=pq\\) con \\(p, q\\) primos:\n\n- \\(d_p \\equiv d \\pmod{p-1}\\), \\(d_q \\equiv d \\pmod{q-1}\\).\n- \\(m_p \\equiv c^{d_p} \\pmod p\\), \\(m_q \\equiv c^{d_q} \\pmod q\\).\n- Recombinar \\(m\\) a módulo \\(n\\) con CRT (idempotentes o `crt()` de enteros). \n\nEsto reduce exponenciaciones grandes a dos más chicas.\n"
    },
    {
      "cell_type": "code",
      "metadata": {},
      "execution_count": null,
      "outputs": [],
      "source": "# Demo RSA-CRT de juguete\np, q = 101, 113\nn = p*q\nphi = (p-1)*(q-1)\ne = 17\nd = inverse_mod(e, phi)\n\n# Mensaje/cifrado\nm = 12345 % n\nc = power_mod(m, e, n)\n\n# Descifrado directo\nm_direct = power_mod(c, d, n)\n\n# Descifrado con CRT\ndp, dq = d % (p-1), d % (q-1)\nmp = power_mod(c % p, dp, p)\nmq = power_mod(c % q, dq, q)\n# recombinar\nx = crt(mp, mq, p, q)  # módulos coprimos\nm_crt = x % n\n\nm, m_direct, m_crt\n"
    },
    {
      "cell_type": "markdown",
      "metadata": {},
      "source": "## 6) CRT en **polinomios** sobre \\(GF(p)\\)\n\nSi \\(f_1, f_2\\in GF(p)[x]\\) son coprimos, vale\n\\(GF(p)[x]/(f_1f_2) \\cong GF(p)[x]/(f_1) \\times GF(p)[x]/(f_2)\\).\nLa recombinación se hace igual que en enteros usando idempotentes con `xgcd`.\n"
    },
    {
      "cell_type": "code",
      "metadata": {},
      "execution_count": null,
      "outputs": [],
      "source": "# CRT para polinomios: combinación explícita por idempotentes\np = 101\nR.<x> = GF(p)[]\nm1 = x^2 + 1\nm2 = x^2 + x + 2\nassert gcd(m1, m2) == 1\n\nM = m1*m2\nE1 = M // m1\ng1, U1, V1 = xgcd(E1, m1)   # U1 * E1 + V1 * m1 = 1  ⇒ U1 es inv de E1 mod m1\ne1 = (E1 * U1) % M\nE2 = M // m2\ng2, U2, V2 = xgcd(E2, m2)\ne2 = (E2 * U2) % M\n\n# Residuos polinomiales\nr1 = (x + 3) % m1\nr2 = (2*x + 5) % m2\n\nX = (r1*e1 + r2*e2) % M\n# Verificación\n(X % m1, X % m2)\n"
    },
    {
      "cell_type": "markdown",
      "metadata": {},
      "source": "---\n\n### Resumen práctico\n- **No coprimos**: verificar consistencia módulo `gcd`; solución única módulo `lcm`.\n- **Coprimos**: usar **idempotentes** o **Garner** según convenga (reconstrucción directa vs. mixed‑radix/RNS).\n- **Hensel**: sube soluciones a potencias de un primo con costo casi lineal en el exponente.\n- **Aplicaciones**: RSA‑CRT, NTT/FFT modular, RNS, álgebra computacional (también en polinomios).\n\n> Probá variar tamaños de módulos y medir tiempos con `%timeit` para ver la ganancia del CRT.\n"
    }
  ]
}